{
 "cells": [
  {
   "cell_type": "code",
   "execution_count": 1,
   "id": "ffd8df01",
   "metadata": {},
   "outputs": [
    {
     "name": "stdout",
     "output_type": "stream",
     "text": [
      "Collecting cassandra-driver\n",
      "  Downloading cassandra_driver-3.25.0-cp38-cp38-win_amd64.whl (2.9 MB)\n",
      "Requirement already satisfied: six>=1.9 in c:\\users\\dell\\anaconda3\\lib\\site-packages (from cassandra-driver) (1.15.0)\n",
      "Collecting geomet<0.3,>=0.1\n",
      "  Downloading geomet-0.2.1.post1-py3-none-any.whl (18 kB)\n",
      "Requirement already satisfied: click in c:\\users\\dell\\anaconda3\\lib\\site-packages (from geomet<0.3,>=0.1->cassandra-driver) (7.1.2)\n",
      "Installing collected packages: geomet, cassandra-driver\n",
      "Successfully installed cassandra-driver-3.25.0 geomet-0.2.1.post1\n"
     ]
    }
   ],
   "source": [
    "!pip install cassandra-driver"
   ]
  },
  {
   "cell_type": "code",
   "execution_count": 1,
   "id": "ed2ca73d",
   "metadata": {},
   "outputs": [
    {
     "name": "stdout",
     "output_type": "stream",
     "text": [
      "3.25.0\n"
     ]
    }
   ],
   "source": [
    "import cassandra\n",
    "print (cassandra.__version__)"
   ]
  },
  {
   "cell_type": "code",
   "execution_count": 2,
   "id": "be7a5e2d",
   "metadata": {},
   "outputs": [],
   "source": [
    "#client_id : hKMohroqWAmBKCQPOkBJLEYD\n",
    "#client secrete : atz6gqOz-_msHkq6eyY7LkieDZ5y.288m27M9mFN7lzqo3+0UwYGmfTQH8DfQYcA.reKZTY3DTuE740_L.5_hf2242wPSKKZrYAIZtFiKKb1kxA_DXh2qXHQ_DUWbDqD\n",
    "# token : AstraCS:hKMohroqWAmBKCQPOkBJLEYD:f59db428433e2e551585910c0b06f1c98562e6960328729325c760cfe609c9b9\n",
    "#Database_id : fee9b492-b712-4557-9b49-12a4b209c555\n",
    "#Cluster Id : fee9b492-b712-4557-9b49-12a4b209c555"
   ]
  },
  {
   "cell_type": "raw",
   "id": "f063d3fc",
   "metadata": {},
   "source": [
    "administrator : \n",
    "id : SnpjquvhpDcZLsLbMXaQnCUT\n",
    "client-secrete : jgz7U,z.aJln7Ei37YB6,zjKZ8mII8tU6BRt3PT+-SzvM-.D79.qgDdjlc,hbgpviy.WrzICM9SXAN1e-.9v1XWDdmItwLNMK7wAbXxk_Sqkr00CBEB0BZzyzntWziqu\n",
    "token : AstraCS:SnpjquvhpDcZLsLbMXaQnCUT:5f336db52fa76f01289f0c0a9520451a0961827b60dc41096cc821551c0c497b\n"
   ]
  },
  {
   "cell_type": "raw",
   "id": "0c871ca2",
   "metadata": {},
   "source": [
    "# how to get client id \n",
    "current-organization -> oragnization-setting -> token-management -> select-role -> generate-token "
   ]
  },
  {
   "cell_type": "code",
   "execution_count": 3,
   "id": "04320ab0",
   "metadata": {},
   "outputs": [],
   "source": [
    "#https://docs.aws.amazon.com/keyspaces/latest/devguide/using_python_driver.html"
   ]
  },
  {
   "cell_type": "code",
   "execution_count": 1,
   "id": "9c9034b6",
   "metadata": {},
   "outputs": [
    {
     "name": "stdout",
     "output_type": "stream",
     "text": [
      "4.0.0.6815\n",
      "Row(release_version='4.0.0.6815')\n",
      "Connected successfully....!\n"
     ]
    }
   ],
   "source": [
    "# connecting to the cassandra-server\n",
    "# three things required :1. Downloaded zip file path \n",
    "#2. client Id \n",
    "#3.Client-secret \n",
    "\n",
    "from cassandra.cluster import Cluster\n",
    "from cassandra.auth import PlainTextAuthProvider\n",
    "\n",
    "cloud_config= {\n",
    "        'secure_connect_bundle': 'D:\\CassandraDB_Bundle\\secure-connect-backorder-prediction.zip'\n",
    "}\n",
    "auth_provider = PlainTextAuthProvider('hKMohroqWAmBKCQPOkBJLEYD', 'atz6gqOz-_msHkq6eyY7LkieDZ5y.288m27M9mFN7lzqo3+0UwYGmfTQH8DfQYcA.reKZTY3DTuE740_L.5_hf2242wPSKKZrYAIZtFiKKb1kxA_DXh2qXHQ_DUWbDqD')\n",
    "cluster = Cluster(cloud=cloud_config, auth_provider=auth_provider)\n",
    "# Good_training_data\n",
    "session = cluster.connect('Good_training_data')\n",
    "row = session.execute(\"select release_version from system.local\").one()\n",
    "if row:\n",
    "    print(row[0])\n",
    "    print(row)\n",
    "    print('Connected successfully....!')\n",
    "else:\n",
    "    print(\"An error occurred.\")"
   ]
  },
  {
   "cell_type": "code",
   "execution_count": 51,
   "id": "b455426b",
   "metadata": {},
   "outputs": [
    {
     "name": "stdout",
     "output_type": "stream",
     "text": [
      "Row(keyspace_name='datastax_sla', durable_writes=True, graph_engine=None, replication=OrderedMapSerializedKey([('class', 'org.apache.cassandra.locator.NetworkTopologyStrategy'), ('us-east-1', '3')]))\n",
      "Row(keyspace_name='system_auth', durable_writes=True, graph_engine=None, replication=OrderedMapSerializedKey([('class', 'org.apache.cassandra.locator.NetworkTopologyStrategy'), ('us-east-1', '3')]))\n",
      "Row(keyspace_name='system_schema', durable_writes=False, graph_engine=None, replication=OrderedMapSerializedKey([('class', 'org.apache.cassandra.locator.LocalStrategy')]))\n",
      "Row(keyspace_name='Good_training_data', durable_writes=True, graph_engine=None, replication=OrderedMapSerializedKey([('class', 'org.apache.cassandra.locator.NetworkTopologyStrategy'), ('us-east-1', '3')]))\n",
      "Row(keyspace_name='system', durable_writes=False, graph_engine=None, replication=OrderedMapSerializedKey([('class', 'org.apache.cassandra.locator.LocalStrategy')]))\n",
      "Row(keyspace_name='data_endpoint_auth', durable_writes=True, graph_engine=None, replication=OrderedMapSerializedKey([('class', 'org.apache.cassandra.locator.NetworkTopologyStrategy'), ('us-east-1', '3')]))\n",
      "Row(keyspace_name='system_traces', durable_writes=True, graph_engine=None, replication=OrderedMapSerializedKey([('class', 'org.apache.cassandra.locator.NetworkTopologyStrategy'), ('us-east-1', '3')]))\n",
      "[]\n"
     ]
    }
   ],
   "source": [
    "row = session.execute('select * from system_schema.keyspaces')\n",
    "for i in row:\n",
    "    print(i)\n",
    "    \n",
    "    \n",
    "# print('\\n')\n",
    "print(row.current_rows)"
   ]
  },
  {
   "cell_type": "code",
   "execution_count": 52,
   "id": "c4f66766",
   "metadata": {},
   "outputs": [
    {
     "name": "stdout",
     "output_type": "stream",
     "text": [
      "cndb\n"
     ]
    }
   ],
   "source": [
    "strCQL = \"SELECT cluster_name FROM system.local\"\n",
    "pStatement = session.prepare(strCQL)\n",
    "rows = session.execute(pStatement)\n",
    "for row in rows:\n",
    "    print (row[0])"
   ]
  },
  {
   "cell_type": "code",
   "execution_count": 63,
   "id": "2d11e1ff",
   "metadata": {},
   "outputs": [
    {
     "data": {
      "text/plain": [
       "<cassandra.cluster.ResultSet at 0x1dda24775b0>"
      ]
     },
     "execution_count": 63,
     "metadata": {},
     "output_type": "execute_result"
    }
   ],
   "source": [
    "session.execute(\"CREATE TABLE if not exists Data(id uuid PRIMARY KEY,Airline text,Source text,Destination text,Total_Stops text,Total_Duration int,Journey_month int,Journey_day int);\")"
   ]
  },
  {
   "cell_type": "code",
   "execution_count": 64,
   "id": "5a7c92bd",
   "metadata": {},
   "outputs": [],
   "source": [
    "# inserting d"
   ]
  },
  {
   "cell_type": "code",
   "execution_count": 65,
   "id": "0cf772f6",
   "metadata": {},
   "outputs": [],
   "source": [
    "#Insert into KeyspaceName.TableName(ColumnName1, ColumnName2, ColumnName3 . . . .)\n",
    "#values (Column1Value, Column2Value, Column3Value . . . .)"
   ]
  },
  {
   "cell_type": "code",
   "execution_count": 72,
   "id": "23cb4975",
   "metadata": {},
   "outputs": [
    {
     "data": {
      "text/plain": [
       "<cassandra.cluster.ResultSet at 0x1dda2cf8340>"
      ]
     },
     "execution_count": 72,
     "metadata": {},
     "output_type": "execute_result"
    }
   ],
   "source": [
    "session.execute(\"Insert into Data(id, Airline, Source,Destination,Total_Stops,Total_Duration,Journey_month,Journey_day) values( uuid(),'shubham','abc','xyz','c' , 14 ,12 , 5);\")"
   ]
  },
  {
   "cell_type": "code",
   "execution_count": 76,
   "id": "3875b14e",
   "metadata": {},
   "outputs": [
    {
     "name": "stdout",
     "output_type": "stream",
     "text": [
      "Row(id=UUID('91b0b72c-b006-4e3b-ba2a-51a277da9f03'), airline='shubham', destination='xyz', journey_day=5, journey_month=12, source='abc', total_duration=14, total_stops='c')\n"
     ]
    }
   ],
   "source": [
    "data_retrived = session.execute(\"select * from data;\")\n",
    "for i in data_retrived:\n",
    "    print(i)"
   ]
  },
  {
   "cell_type": "code",
   "execution_count": null,
   "id": "9ae0bd6b",
   "metadata": {},
   "outputs": [],
   "source": [
    "# get the table names\n",
    "# cq : describe tables;\n",
    "# get the keyspaces : cq : describe keyspaces\n",
    "# use keyspace : use keyspace_name "
   ]
  },
  {
   "cell_type": "code",
   "execution_count": 29,
   "id": "bb7e15c6",
   "metadata": {},
   "outputs": [
    {
     "name": "stdout",
     "output_type": "stream",
     "text": [
      "Row(cluster_name='cndb')\n"
     ]
    }
   ],
   "source": [
    "a= session.execute(\"SELECT cluster_name FROM system.local\")\n",
    "for i in a:\n",
    "    print(i)"
   ]
  },
  {
   "cell_type": "code",
   "execution_count": 53,
   "id": "20474b80",
   "metadata": {},
   "outputs": [],
   "source": [
    "for i in session.execute(\"SELECT * FROM system_schema.columns WHERE keyspace_name = 'Good_training_data' AND table_name = 'Data';\"):\n",
    "    print(i)"
   ]
  },
  {
   "cell_type": "code",
   "execution_count": 10,
   "id": "df7f1dad",
   "metadata": {},
   "outputs": [],
   "source": [
    "# to see all keyspaces :  describe keyspaces\n",
    "# SELECT * FROM system_schema.keyspaces;"
   ]
  },
  {
   "cell_type": "code",
   "execution_count": 17,
   "id": "5bc83a45",
   "metadata": {},
   "outputs": [
    {
     "name": "stdout",
     "output_type": "stream",
     "text": [
      "datastax_sla\n",
      "True\n",
      "None\n",
      "{'class': 'org.apache.cassandra.locator.NetworkTopologyStrategy', 'us-east-1': '3'}\n"
     ]
    }
   ],
   "source": [
    "row = session.execute('select * from system_schema.keyspaces').one()\n",
    "for i in row:\n",
    "    print(i)"
   ]
  },
  {
   "cell_type": "code",
   "execution_count": 20,
   "id": "3fc8fa12",
   "metadata": {},
   "outputs": [
    {
     "ename": "InvalidRequest",
     "evalue": "Error from server: code=2200 [Invalid query] message=\"keyspace goood_training does not exist\"",
     "output_type": "error",
     "traceback": [
      "\u001b[1;31m---------------------------------------------------------------------------\u001b[0m",
      "\u001b[1;31mInvalidRequest\u001b[0m                            Traceback (most recent call last)",
      "\u001b[1;32m<ipython-input-20-85befd6b3e9a>\u001b[0m in \u001b[0;36m<module>\u001b[1;34m\u001b[0m\n\u001b[1;32m----> 1\u001b[1;33m \u001b[0mrow\u001b[0m \u001b[1;33m=\u001b[0m \u001b[0msession\u001b[0m\u001b[1;33m.\u001b[0m\u001b[0mexecute\u001b[0m\u001b[1;33m(\u001b[0m\u001b[1;34m'select * from Goood_training.keyspaces;'\u001b[0m\u001b[1;33m)\u001b[0m\u001b[1;33m.\u001b[0m\u001b[0mone\u001b[0m\u001b[1;33m(\u001b[0m\u001b[1;33m)\u001b[0m\u001b[1;33m\u001b[0m\u001b[1;33m\u001b[0m\u001b[0m\n\u001b[0m\u001b[0;32m      2\u001b[0m \u001b[0mprint\u001b[0m\u001b[1;33m(\u001b[0m\u001b[0mrow\u001b[0m\u001b[1;33m)\u001b[0m\u001b[1;33m\u001b[0m\u001b[1;33m\u001b[0m\u001b[0m\n",
      "\u001b[1;32m~\\anaconda3\\lib\\site-packages\\cassandra\\cluster.cp38-win_amd64.pyd\u001b[0m in \u001b[0;36mcassandra.cluster.Session.execute\u001b[1;34m()\u001b[0m\n",
      "\u001b[1;32m~\\anaconda3\\lib\\site-packages\\cassandra\\cluster.cp38-win_amd64.pyd\u001b[0m in \u001b[0;36mcassandra.cluster.ResponseFuture.result\u001b[1;34m()\u001b[0m\n",
      "\u001b[1;31mInvalidRequest\u001b[0m: Error from server: code=2200 [Invalid query] message=\"keyspace goood_training does not exist\""
     ]
    }
   ],
   "source": [
    "row = session.execute('select * from Goood_training.keyspaces').one()\n",
    "print(row)"
   ]
  },
  {
   "cell_type": "code",
   "execution_count": null,
   "id": "a56fa2ee",
   "metadata": {},
   "outputs": [],
   "source": [
    "# create the keyspaces\n",
    "#CREATE KEYSPACE IF NOT EXISTS Good_prediction WITH REPLICATION = {'class' : 'simplestrategy', 'replication_factor':'1'} AND durable_writes = 'true' ; "
   ]
  },
  {
   "cell_type": "code",
   "execution_count": 23,
   "id": "08f58957",
   "metadata": {},
   "outputs": [
    {
     "ename": "Unauthorized",
     "evalue": "Error from server: code=2100 [Unauthorized] message=\"Missing correct permission on good_prediction.\"",
     "output_type": "error",
     "traceback": [
      "\u001b[1;31m---------------------------------------------------------------------------\u001b[0m",
      "\u001b[1;31mUnauthorized\u001b[0m                              Traceback (most recent call last)",
      "\u001b[1;32m<ipython-input-23-ef7c2e5b841e>\u001b[0m in \u001b[0;36m<module>\u001b[1;34m\u001b[0m\n\u001b[1;32m----> 1\u001b[1;33m \u001b[0mrow\u001b[0m \u001b[1;33m=\u001b[0m \u001b[0msession\u001b[0m\u001b[1;33m.\u001b[0m\u001b[0mexecute\u001b[0m\u001b[1;33m(\u001b[0m\u001b[1;34m\"CREATE KEYSPACE IF NOT EXISTS Good_prediction WITH REPLICATION = {'class' : 'Simplestrategy', 'replication_factor':'1'} AND durable_writes = 'true' ; \"\u001b[0m\u001b[1;33m)\u001b[0m\u001b[1;33m\u001b[0m\u001b[1;33m\u001b[0m\u001b[0m\n\u001b[0m\u001b[0;32m      2\u001b[0m \u001b[1;31m# getting error : because the current user doesn't have permission to create keyspaces\u001b[0m\u001b[1;33m\u001b[0m\u001b[1;33m\u001b[0m\u001b[1;33m\u001b[0m\u001b[0m\n",
      "\u001b[1;32m~\\anaconda3\\lib\\site-packages\\cassandra\\cluster.cp38-win_amd64.pyd\u001b[0m in \u001b[0;36mcassandra.cluster.Session.execute\u001b[1;34m()\u001b[0m\n",
      "\u001b[1;32m~\\anaconda3\\lib\\site-packages\\cassandra\\cluster.cp38-win_amd64.pyd\u001b[0m in \u001b[0;36mcassandra.cluster.ResponseFuture.result\u001b[1;34m()\u001b[0m\n",
      "\u001b[1;31mUnauthorized\u001b[0m: Error from server: code=2100 [Unauthorized] message=\"Missing correct permission on good_prediction.\""
     ]
    }
   ],
   "source": [
    "row = session.execute(\"CREATE KEYSPACE IF NOT EXISTS Good_prediction WITH REPLICATION = {'class' : 'Simplestrategy', 'replication_factor':'1'} AND durable_writes = 'true' ; \")\n",
    "# getting error : because the current user doesn't have permission to create keyspaces "
   ]
  },
  {
   "cell_type": "code",
   "execution_count": null,
   "id": "782ccd91",
   "metadata": {},
   "outputs": [],
   "source": [
    "#"
   ]
  },
  {
   "cell_type": "code",
   "execution_count": 8,
   "id": "9a039112",
   "metadata": {},
   "outputs": [
    {
     "name": "stdout",
     "output_type": "stream",
     "text": [
      "d \t 1\n"
     ]
    }
   ],
   "source": [
    "print('d \\n {}'.format(1) ) "
   ]
  },
  {
   "cell_type": "code",
   "execution_count": 25,
   "id": "83de52b7",
   "metadata": {},
   "outputs": [],
   "source": [
    "import cassandra\n",
    "from cassandra.cluster import Cluster\n",
    "from cassandra.auth import PlainTextAuthProvider\n",
    "\n",
    "class connector:\n",
    "    def __init__(self):\n",
    "        #self.logger = logger_app()\n",
    "        #self.yml_path = \"Controllers\\DBconnection_info.yaml\"\n",
    "        #self.dataLoader = yaml_parser(self.yml_path)\n",
    "        self.path_toZip = 'D:\\CassandraDB_Bundle\\secure-connect-backorder-prediction.zip'\n",
    "        self.client_id =  'hKMohroqWAmBKCQPOkBJLEYD'\n",
    "        self.client_sec = 'atz6gqOz-_msHkq6eyY7LkieDZ5y.288m27M9mFN7lzqo3+0UwYGmfTQH8DfQYcA.reKZTY3DTuE740_L.5_hf2242wPSKKZrYAIZtFiKKb1kxA_DXh2qXHQ_DUWbDqD'\n",
    "        \n",
    "    def connect(self):\n",
    "        #print(self.client_id)\n",
    "        #print(self.client_sec )\n",
    "        cloud_config= {\n",
    "        'secure_connect_bundle': 'D:\\CassandraDB_Bundle\\secure-connect-backorder-prediction.zip'\n",
    "                        }\n",
    "        auth_provider = PlainTextAuthProvider(self.client_id , self.client_sec )\n",
    "        cluster = Cluster(cloud=cloud_config, auth_provider=auth_provider)\n",
    "        session = cluster.connect()\n",
    "\n",
    "        row = session.execute(\"select release_version from system.local\").one()\n",
    "        if row:\n",
    "            #print(row[0])\n",
    "            #print(row)\n",
    "            print('connector Connected successfully....!')             \n",
    "        else:\n",
    "            print(\"An error occurred.\") \n",
    "            #pass \n",
    "            \n",
    "        return session"
   ]
  },
  {
   "cell_type": "code",
   "execution_count": 26,
   "id": "e3991883",
   "metadata": {},
   "outputs": [
    {
     "name": "stdout",
     "output_type": "stream",
     "text": [
      "connector Connected successfully....!\n"
     ]
    }
   ],
   "source": [
    "a = connector()\n",
    "session1 = a.connect()"
   ]
  },
  {
   "cell_type": "code",
   "execution_count": 27,
   "id": "a98cbc03",
   "metadata": {},
   "outputs": [],
   "source": [
    "class ex:\n",
    "    def __init__(self):\n",
    "        self.connector = connector()\n",
    "        self.session = self.connector.connect()\n",
    "    def command(self):\n",
    "        row = self.session.execute(\"select release_version from system.local\").one()\n",
    "        print(row)\n",
    "        if row:\n",
    "            print(row[0])\n",
    "            print('Experiment success..')\n",
    "        else:\n",
    "            print('Failure..')\n"
   ]
  },
  {
   "cell_type": "code",
   "execution_count": 28,
   "id": "92a68599",
   "metadata": {},
   "outputs": [
    {
     "name": "stdout",
     "output_type": "stream",
     "text": [
      "connector Connected successfully....!\n",
      "Row(release_version='4.0.0.6815')\n",
      "4.0.0.6815\n",
      "Experiment success..\n"
     ]
    }
   ],
   "source": [
    "b = ex()\n",
    "b.command()\n"
   ]
  },
  {
   "cell_type": "code",
   "execution_count": 46,
   "id": "632b61a4",
   "metadata": {},
   "outputs": [],
   "source": [
    "# dataset Details \n",
    "import os "
   ]
  },
  {
   "cell_type": "code",
   "execution_count": 6,
   "id": "5a4ff897",
   "metadata": {},
   "outputs": [
    {
     "name": "stdout",
     "output_type": "stream",
     "text": [
      " Volume in drive D is New Volume\n",
      " Volume Serial Number is 9A09-67B7\n",
      "\n",
      " Directory of D:\\\n",
      "\n",
      "27-08-2021  08.12 PM    <DIR>          Auto Ml Docs\n",
      "27-08-2021  07.52 PM    <DIR>          BackOrder_Intern\n",
      "29-08-2021  12.32 PM    <DIR>          Books\n",
      "27-08-2021  06.53 PM    <DIR>          Cassandra files\n",
      "27-08-2021  07.47 PM    <DIR>          CassandraDB_Bundle\n",
      "04-08-2021  03.08 PM    <DIR>          CNN\n",
      "30-08-2021  12.53 AM    <DIR>          Detectron-2\n",
      "30-08-2021  10.45 PM    <DIR>          Download\n",
      "03-08-2021  02.43 PM    <DIR>          DPR\n",
      "09-08-2021  01.55 AM    <DIR>          DSA\n",
      "28-08-2021  12.29 AM    <DIR>          FloweDataset\n",
      "24-08-2021  01.40 AM    <DIR>          git backup\n",
      "25-07-2021  04.38 PM    <DIR>          HLD & LLD\n",
      "31-07-2021  10.44 PM    <DIR>          Ineuron Projects\n",
      "11-08-2021  06.15 PM    <DIR>          Int Prep\n",
      "06-08-2021  12.20 AM    <DIR>          Internship Projects\n",
      "21-08-2021  10.38 AM    <DIR>          Jupyter Files\n",
      "13-08-2021  11.47 PM    <DIR>          linux-handbook-v-2\n",
      "29-07-2021  09.00 PM    <DIR>          MLOps\n",
      "25-07-2021  05.31 PM    <DIR>          my_projetcs\n",
      "18-08-2021  03.27 PM    <DIR>          Object Detection Project\n",
      "18-08-2021  10.31 AM    <DIR>          OBJ_Dproj\n",
      "24-08-2021  05.41 PM    <DIR>          Projects PPT\n",
      "30-08-2021  01.06 AM    <DIR>          research papers\n",
      "24-08-2021  05.40 PM    <DIR>          Software park\n",
      "30-08-2021  07.14 PM    <DIR>          SQL2019\n",
      "17-08-2021  03.13 AM    <DIR>          tfod2\n",
      "24-08-2021  05.39 PM    <DIR>          tfods Zips\n",
      "07-08-2021  11.30 PM    <DIR>          Time series\n",
      "08-08-2021  12.08 AM    <DIR>          tmp\n",
      "11-08-2021  12.35 AM    <DIR>          VDOS\n",
      "               0 File(s)              0 bytes\n",
      "              31 Dir(s)  257,174,745,088 bytes free\n"
     ]
    }
   ],
   "source": [
    "!dir"
   ]
  },
  {
   "cell_type": "code",
   "execution_count": 15,
   "id": "ac466cd7",
   "metadata": {},
   "outputs": [
    {
     "name": "stdout",
     "output_type": "stream",
     "text": [
      "[WinError 2] The system cannot find the file specified: './BackOrder_Intern'\n",
      "D:\\Cassandra files\n"
     ]
    }
   ],
   "source": [
    "cd ./BackOrder_Intern"
   ]
  },
  {
   "cell_type": "code",
   "execution_count": 16,
   "id": "5eb1f444",
   "metadata": {},
   "outputs": [
    {
     "name": "stdout",
     "output_type": "stream",
     "text": [
      " Volume in drive D is New Volume\n",
      " Volume Serial Number is 9A09-67B7\n",
      "\n",
      " Directory of D:\\Cassandra files\n",
      "\n",
      "01-09-2021  03.12 PM    <DIR>          .\n",
      "01-09-2021  03.12 PM    <DIR>          ..\n",
      "25-08-2021  02.35 PM    <DIR>          .ipynb_checkpoints\n",
      "25-08-2021  12.07 PM    <DIR>          19.4.Cassandra\n",
      "25-08-2021  02.53 PM               316 Admin-user-token\n",
      "25-08-2021  02.54 PM               332 organization-administrator_token\n",
      "01-09-2021  03.12 PM            32,713 ServerBased_Cassandra.ipynb\n",
      "               3 File(s)         33,361 bytes\n",
      "               4 Dir(s)  245,354,512,384 bytes free\n"
     ]
    }
   ],
   "source": [
    "!dir"
   ]
  },
  {
   "cell_type": "code",
   "execution_count": 17,
   "id": "1af6c747",
   "metadata": {},
   "outputs": [],
   "source": [
    "import json\n",
    "import os "
   ]
  },
  {
   "cell_type": "code",
   "execution_count": 12,
   "id": "0277a2af",
   "metadata": {},
   "outputs": [
    {
     "data": {
      "text/plain": [
       "'D:\\\\Cassandra files\\\\Training_Schema.json'"
      ]
     },
     "execution_count": 12,
     "metadata": {},
     "output_type": "execute_result"
    }
   ],
   "source": [
    "json_path = os.path.join(os.getcwd() , 'Training_Schema.json')\n",
    "json_path"
   ]
  },
  {
   "cell_type": "code",
   "execution_count": 13,
   "id": "30b84cfd",
   "metadata": {},
   "outputs": [],
   "source": [
    "def parsing_json(file_path):\n",
    "    with open(file_path , mode='r') as f:\n",
    "        l = []\n",
    "        data = json.load(f)\n",
    "        return data"
   ]
  },
  {
   "cell_type": "code",
   "execution_count": 14,
   "id": "ad27fa9a",
   "metadata": {},
   "outputs": [
    {
     "ename": "FileNotFoundError",
     "evalue": "[Errno 2] No such file or directory: 'D:\\\\Cassandra files\\\\Training_Schema.json'",
     "output_type": "error",
     "traceback": [
      "\u001b[1;31m---------------------------------------------------------------------------\u001b[0m",
      "\u001b[1;31mFileNotFoundError\u001b[0m                         Traceback (most recent call last)",
      "\u001b[1;32m<ipython-input-14-1ec3cf0a8cce>\u001b[0m in \u001b[0;36m<module>\u001b[1;34m()\u001b[0m\n\u001b[1;32m----> 1\u001b[1;33m \u001b[0mdata\u001b[0m  \u001b[1;33m=\u001b[0m \u001b[0mparsing_json\u001b[0m\u001b[1;33m(\u001b[0m\u001b[0mjson_path\u001b[0m\u001b[1;33m)\u001b[0m\u001b[1;33m\u001b[0m\u001b[1;33m\u001b[0m\u001b[0m\n\u001b[0m",
      "\u001b[1;32m<ipython-input-13-11f97d73442a>\u001b[0m in \u001b[0;36mparsing_json\u001b[1;34m(file_path)\u001b[0m\n\u001b[0;32m      1\u001b[0m \u001b[1;32mdef\u001b[0m \u001b[0mparsing_json\u001b[0m\u001b[1;33m(\u001b[0m\u001b[0mfile_path\u001b[0m\u001b[1;33m)\u001b[0m\u001b[1;33m:\u001b[0m\u001b[1;33m\u001b[0m\u001b[1;33m\u001b[0m\u001b[0m\n\u001b[1;32m----> 2\u001b[1;33m     \u001b[1;32mwith\u001b[0m \u001b[0mopen\u001b[0m\u001b[1;33m(\u001b[0m\u001b[0mfile_path\u001b[0m \u001b[1;33m,\u001b[0m \u001b[0mmode\u001b[0m\u001b[1;33m=\u001b[0m\u001b[1;34m'r'\u001b[0m\u001b[1;33m)\u001b[0m \u001b[1;32mas\u001b[0m \u001b[0mf\u001b[0m\u001b[1;33m:\u001b[0m\u001b[1;33m\u001b[0m\u001b[1;33m\u001b[0m\u001b[0m\n\u001b[0m\u001b[0;32m      3\u001b[0m         \u001b[0ml\u001b[0m \u001b[1;33m=\u001b[0m \u001b[1;33m[\u001b[0m\u001b[1;33m]\u001b[0m\u001b[1;33m\u001b[0m\u001b[1;33m\u001b[0m\u001b[0m\n\u001b[0;32m      4\u001b[0m         \u001b[0mdata\u001b[0m \u001b[1;33m=\u001b[0m \u001b[0mjson\u001b[0m\u001b[1;33m.\u001b[0m\u001b[0mload\u001b[0m\u001b[1;33m(\u001b[0m\u001b[0mf\u001b[0m\u001b[1;33m)\u001b[0m\u001b[1;33m\u001b[0m\u001b[1;33m\u001b[0m\u001b[0m\n\u001b[0;32m      5\u001b[0m         \u001b[1;32mreturn\u001b[0m \u001b[0mdata\u001b[0m\u001b[1;33m\u001b[0m\u001b[1;33m\u001b[0m\u001b[0m\n",
      "\u001b[1;31mFileNotFoundError\u001b[0m: [Errno 2] No such file or directory: 'D:\\\\Cassandra files\\\\Training_Schema.json'"
     ]
    }
   ],
   "source": [
    "data  = parsing_json(json_path)"
   ]
  },
  {
   "cell_type": "code",
   "execution_count": 8,
   "id": "7240647c",
   "metadata": {},
   "outputs": [
    {
     "ename": "NameError",
     "evalue": "name 'data' is not defined",
     "output_type": "error",
     "traceback": [
      "\u001b[1;31m---------------------------------------------------------------------------\u001b[0m",
      "\u001b[1;31mNameError\u001b[0m                                 Traceback (most recent call last)",
      "\u001b[1;32m<ipython-input-8-c5d84736ba45>\u001b[0m in \u001b[0;36m<module>\u001b[1;34m()\u001b[0m\n\u001b[1;32m----> 1\u001b[1;33m \u001b[0mdata\u001b[0m\u001b[1;33m\u001b[0m\u001b[1;33m\u001b[0m\u001b[0m\n\u001b[0m",
      "\u001b[1;31mNameError\u001b[0m: name 'data' is not defined"
     ]
    }
   ],
   "source": [
    "data"
   ]
  },
  {
   "cell_type": "code",
   "execution_count": 9,
   "id": "a6adb323",
   "metadata": {},
   "outputs": [
    {
     "ename": "NameError",
     "evalue": "name 'data' is not defined",
     "output_type": "error",
     "traceback": [
      "\u001b[1;31m---------------------------------------------------------------------------\u001b[0m",
      "\u001b[1;31mNameError\u001b[0m                                 Traceback (most recent call last)",
      "\u001b[1;32m<ipython-input-9-f48638c7ce78>\u001b[0m in \u001b[0;36m<module>\u001b[1;34m()\u001b[0m\n\u001b[1;32m----> 1\u001b[1;33m \u001b[0mcol_n\u001b[0m \u001b[1;33m=\u001b[0m \u001b[0mdata\u001b[0m\u001b[1;33m[\u001b[0m\u001b[1;34m'ColName'\u001b[0m\u001b[1;33m]\u001b[0m\u001b[1;33m\u001b[0m\u001b[1;33m\u001b[0m\u001b[0m\n\u001b[0m\u001b[0;32m      2\u001b[0m \u001b[0mcol_n\u001b[0m\u001b[1;33m\u001b[0m\u001b[1;33m\u001b[0m\u001b[0m\n",
      "\u001b[1;31mNameError\u001b[0m: name 'data' is not defined"
     ]
    }
   ],
   "source": [
    "col_n = data['ColName']\n",
    "col_n"
   ]
  },
  {
   "cell_type": "code",
   "execution_count": 36,
   "id": "85f36548",
   "metadata": {},
   "outputs": [],
   "source": [
    "st = ''\n",
    "\n",
    "for k,v in col_n.items():\n",
    "    if v == 'Integer':\n",
    "        st = st + k + '  ' + 'int' + ','\n",
    "    elif v == 'object':\n",
    "        st = st + k + '  ' + 'text' + ','      \n",
    "    else :\n",
    "        st = st + k +\"  \"+ v + ' , '\n",
    "       \n",
    "    "
   ]
  },
  {
   "cell_type": "code",
   "execution_count": 37,
   "id": "3a052895",
   "metadata": {},
   "outputs": [
    {
     "data": {
      "text/plain": [
       "'sku  int,national_inv  float , lead_time  float , in_transit_qty  float , forecast_3_month  float , forecast_6_month  float , forecast_9_month  float , sales_1_month  float , sales_3_month  float , sales_6_month  float , sales_9_month  float , min_bank  float , potential_issue  text,pieces_past_due  float , perf_6_month_avg  float , perf_12_month_avg  float , local_bo_qty  float , deck_risk  text,oe_constraint  text,ppap_risk  text,stop_auto_buy  text,rev_stop  text,went_on_backorder  text,'"
      ]
     },
     "execution_count": 37,
     "metadata": {},
     "output_type": "execute_result"
    }
   ],
   "source": [
    "st"
   ]
  },
  {
   "cell_type": "code",
   "execution_count": 21,
   "id": "67dd1e1d",
   "metadata": {},
   "outputs": [
    {
     "data": {
      "text/plain": [
       "['.git',\n",
       " '.gitignore',\n",
       " '.idea',\n",
       " 'application_logging',\n",
       " 'Controllers',\n",
       " 'json_reader.py',\n",
       " 'Prediction_Logs',\n",
       " 'secure-connect-backorder-prediction.zip',\n",
       " 'tester.py',\n",
       " 'Tools',\n",
       " 'Training_batch_files',\n",
       " 'Training_Database_Operations',\n",
       " 'Training_dataValidation',\n",
       " 'Training_Logs',\n",
       " 'Training_Schema.json']"
      ]
     },
     "execution_count": 21,
     "metadata": {},
     "output_type": "execute_result"
    }
   ],
   "source": [
    "os.chdir('D:\\BackOrder_Intern')\n",
    "os.listdir('.')"
   ]
  },
  {
   "cell_type": "code",
   "execution_count": 20,
   "id": "33f46e7a",
   "metadata": {},
   "outputs": [],
   "source": [
    "def parsing_json(file_path):\n",
    "    with open(file_path , mode='r') as f:\n",
    "        l = []\n",
    "        data = json.load(f)\n",
    "        return data\n",
    "    \n",
    "data = parsing_json('./Training_Schema.json')"
   ]
  },
  {
   "cell_type": "code",
   "execution_count": 22,
   "id": "068e97bd",
   "metadata": {},
   "outputs": [
    {
     "data": {
      "text/plain": [
       "{'SampleFileName': 'BackOrder_08012020_120000.csv',\n",
       " 'LengthOfDateStampInFile': 8,\n",
       " 'LengthOfTimeStampInFile': 6,\n",
       " 'NumberofColumns': 23,\n",
       " 'ColName': {'sku': 'Integer',\n",
       "  'national_inv': 'float',\n",
       "  'lead_time': 'float',\n",
       "  'in_transit_qty': 'float',\n",
       "  'forecast_3_month': 'float',\n",
       "  'forecast_6_month': 'float',\n",
       "  'forecast_9_month': 'float',\n",
       "  'sales_1_month': 'float',\n",
       "  'sales_3_month': 'float',\n",
       "  'sales_6_month': 'float',\n",
       "  'sales_9_month': 'float',\n",
       "  'min_bank': 'float',\n",
       "  'potential_issue': 'object',\n",
       "  'pieces_past_due': 'float',\n",
       "  'perf_6_month_avg': 'float',\n",
       "  'perf_12_month_avg': 'float',\n",
       "  'local_bo_qty': 'float',\n",
       "  'deck_risk': 'object',\n",
       "  'oe_constraint': 'object',\n",
       "  'ppap_risk': 'object',\n",
       "  'stop_auto_buy': 'object',\n",
       "  'rev_stop': 'object',\n",
       "  'went_on_backorder': 'object'}}"
      ]
     },
     "execution_count": 22,
     "metadata": {},
     "output_type": "execute_result"
    }
   ],
   "source": [
    "data"
   ]
  },
  {
   "cell_type": "markdown",
   "id": "2b7696d9",
   "metadata": {},
   "source": [
    "## create table"
   ]
  },
  {
   "cell_type": "code",
   "execution_count": null,
   "id": "7066adbc",
   "metadata": {},
   "outputs": [],
   "source": [
    "col_n = data['ColName']\n",
    "cols = \"\"\n",
    "for k,v in col_n.items():\n",
    "    cols=cols + k + \",\"\n",
    "    \n",
    "print( cols)"
   ]
  },
  {
   "cell_type": "code",
   "execution_count": 53,
   "id": "2c6f21b9",
   "metadata": {},
   "outputs": [
    {
     "data": {
      "text/plain": [
       "<cassandra.cluster.ResultSet at 0x2022b859748>"
      ]
     },
     "execution_count": 53,
     "metadata": {},
     "output_type": "execute_result"
    }
   ],
   "source": [
    "# commands\n",
    "session.execute('use \"Good_training_data\"')"
   ]
  },
  {
   "cell_type": "code",
   "execution_count": 54,
   "id": "12b27eb0",
   "metadata": {},
   "outputs": [
    {
     "data": {
      "text/plain": [
       "<cassandra.cluster.ResultSet at 0x2022b7d5d68>"
      ]
     },
     "execution_count": 54,
     "metadata": {},
     "output_type": "execute_result"
    }
   ],
   "source": [
    "session.execute(\"CREATE TABLE if not exists Good_trainingTable ( id uuid PRIMARY KEY,sku  int,national_inv  float , lead_time  float , in_transit_qty  float , forecast_3_month  float , forecast_6_month  float , forecast_9_month  float , sales_1_month  float , sales_3_month  float ,sales_6_month  float , sales_9_month  float ,min_bank  float , potential_issue  text,pieces_past_due  float , perf_6_month_avg  float , perf_12_month_avg  float , local_bo_qty  float ,deck_risk  text,oe_constraint  text  , ppap_risk  text,stop_auto_buy  text,rev_stop  text,went_on_backorder  text) ;\" )\n",
    "   \n",
    "    \n"
   ]
  },
  {
   "cell_type": "markdown",
   "id": "abe61290",
   "metadata": {},
   "source": [
    "## Inserting Data"
   ]
  },
  {
   "cell_type": "code",
   "execution_count": 1,
   "id": "77675f26",
   "metadata": {},
   "outputs": [
    {
     "name": "stdout",
     "output_type": "stream",
     "text": [
      "3.25.0\n"
     ]
    }
   ],
   "source": [
    "import cassandra\n",
    "print (cassandra.__version__)"
   ]
  },
  {
   "cell_type": "code",
   "execution_count": 2,
   "id": "6c537201",
   "metadata": {
    "scrolled": true
   },
   "outputs": [
    {
     "name": "stdout",
     "output_type": "stream",
     "text": [
      "4.0.0.6815\n",
      "Row(release_version='4.0.0.6815')\n",
      "Connected successfully....!\n"
     ]
    }
   ],
   "source": [
    "# connecting to the cassandra-server\n",
    "# three things required :1. Downloaded zip file path \n",
    "#2. client Id \n",
    "#3.Client-secret \n",
    "\n",
    "from cassandra.cluster import Cluster\n",
    "from cassandra.auth import PlainTextAuthProvider\n",
    "\n",
    "cloud_config= {\n",
    "        'secure_connect_bundle': 'D:\\CassandraDB_Bundle\\secure-connect-backorder-prediction.zip'\n",
    "}\n",
    "auth_provider = PlainTextAuthProvider('hKMohroqWAmBKCQPOkBJLEYD', 'atz6gqOz-_msHkq6eyY7LkieDZ5y.288m27M9mFN7lzqo3+0UwYGmfTQH8DfQYcA.reKZTY3DTuE740_L.5_hf2242wPSKKZrYAIZtFiKKb1kxA_DXh2qXHQ_DUWbDqD')\n",
    "cluster = Cluster(cloud=cloud_config, auth_provider=auth_provider)\n",
    "# Good_training_data\n",
    "session = cluster.connect('Good_training_data')\n",
    "row = session.execute(\"select release_version from system.local\").one()\n",
    "if row:\n",
    "    print(row[0])\n",
    "    print(row)\n",
    "    print('Connected successfully....!')\n",
    "else:\n",
    "    print(\"An error occurred.\")"
   ]
  },
  {
   "cell_type": "code",
   "execution_count": 2,
   "id": "8c36a232",
   "metadata": {},
   "outputs": [
    {
     "data": {
      "text/plain": [
       "<cassandra.cluster.ResultSet at 0x1a81261d908>"
      ]
     },
     "execution_count": 2,
     "metadata": {},
     "output_type": "execute_result"
    }
   ],
   "source": [
    "session.execute('use \"Good_training_data\"') "
   ]
  },
  {
   "cell_type": "raw",
   "id": "2b6849c8",
   "metadata": {},
   "source": [
    "(id , sku,national_inv,lead_time,in_transit_qty,forecast_3_month,forecast_6_month,forecast_9_month,sales_1_month,sales_3_month,sales_6_month,sales_9_month,min_bank,potential_issue,pieces_past_due,perf_6_month_avg,perf_12_month_avg,local_bo_qty,deck_risk,oe_constraint,ppap_risk,stop_auto_buy,rev_stop,went_on_backorder) values (uuid , )"
   ]
  },
  {
   "cell_type": "code",
   "execution_count": 3,
   "id": "bd6afc74",
   "metadata": {},
   "outputs": [
    {
     "data": {
      "text/plain": [
       "['.ipynb_checkpoints',\n",
       " '19.4.Cassandra',\n",
       " 'Admin-user-token',\n",
       " 'filtered_Training_data.csv',\n",
       " 'finaltest.csv',\n",
       " 'Imported_data4.csv',\n",
       " 'Mini_data.csv',\n",
       " 'Names.csv',\n",
       " 'Names2.csv',\n",
       " 'organization-administrator_token',\n",
       " 'sample_try2.csv',\n",
       " 'ServerBased_Cassandra -Origional.ipynb',\n",
       " 'ServerBased_Cassandra.ipynb']"
      ]
     },
     "execution_count": 3,
     "metadata": {},
     "output_type": "execute_result"
    }
   ],
   "source": [
    "import os \n",
    "os.chdir(\"D:\\Cassandra files\")\n",
    "os.listdir('.')\n"
   ]
  },
  {
   "cell_type": "code",
   "execution_count": 100,
   "id": "18f8d249",
   "metadata": {},
   "outputs": [
    {
     "name": "stderr",
     "output_type": "stream",
     "text": [
      "C:\\Users\\DELL\\anaconda3\\envs\\WaferFaultDetection_env\\lib\\site-packages\\numpy\\lib\\arraysetops.py:569: FutureWarning: elementwise comparison failed; returning scalar instead, but in the future will perform elementwise comparison\n",
      "  mask |= (ar1 == a)\n"
     ]
    },
    {
     "data": {
      "text/html": [
       "<div>\n",
       "<style scoped>\n",
       "    .dataframe tbody tr th:only-of-type {\n",
       "        vertical-align: middle;\n",
       "    }\n",
       "\n",
       "    .dataframe tbody tr th {\n",
       "        vertical-align: top;\n",
       "    }\n",
       "\n",
       "    .dataframe thead th {\n",
       "        text-align: right;\n",
       "    }\n",
       "</style>\n",
       "<table border=\"1\" class=\"dataframe\">\n",
       "  <thead>\n",
       "    <tr style=\"text-align: right;\">\n",
       "      <th></th>\n",
       "      <th>national_inv</th>\n",
       "      <th>lead_time</th>\n",
       "      <th>in_transit_qty</th>\n",
       "      <th>forecast_3_month</th>\n",
       "      <th>forecast_6_month</th>\n",
       "      <th>forecast_9_month</th>\n",
       "      <th>sales_1_month</th>\n",
       "      <th>sales_3_month</th>\n",
       "      <th>sales_6_month</th>\n",
       "      <th>sales_9_month</th>\n",
       "      <th>...</th>\n",
       "      <th>pieces_past_due</th>\n",
       "      <th>perf_6_month_avg</th>\n",
       "      <th>perf_12_month_avg</th>\n",
       "      <th>local_bo_qty</th>\n",
       "      <th>deck_risk</th>\n",
       "      <th>oe_constraint</th>\n",
       "      <th>ppap_risk</th>\n",
       "      <th>stop_auto_buy</th>\n",
       "      <th>rev_stop</th>\n",
       "      <th>went_on_backorder</th>\n",
       "    </tr>\n",
       "    <tr>\n",
       "      <th>sku</th>\n",
       "      <th></th>\n",
       "      <th></th>\n",
       "      <th></th>\n",
       "      <th></th>\n",
       "      <th></th>\n",
       "      <th></th>\n",
       "      <th></th>\n",
       "      <th></th>\n",
       "      <th></th>\n",
       "      <th></th>\n",
       "      <th></th>\n",
       "      <th></th>\n",
       "      <th></th>\n",
       "      <th></th>\n",
       "      <th></th>\n",
       "      <th></th>\n",
       "      <th></th>\n",
       "      <th></th>\n",
       "      <th></th>\n",
       "      <th></th>\n",
       "      <th></th>\n",
       "    </tr>\n",
       "  </thead>\n",
       "  <tbody>\n",
       "    <tr>\n",
       "      <th>1043384</th>\n",
       "      <td>2.0</td>\n",
       "      <td>9.0</td>\n",
       "      <td>0.0</td>\n",
       "      <td>0.0</td>\n",
       "      <td>0.0</td>\n",
       "      <td>0.0</td>\n",
       "      <td>0.0</td>\n",
       "      <td>0.0</td>\n",
       "      <td>0.0</td>\n",
       "      <td>0.0</td>\n",
       "      <td>...</td>\n",
       "      <td>0.0</td>\n",
       "      <td>0.99</td>\n",
       "      <td>0.99</td>\n",
       "      <td>0.0</td>\n",
       "      <td>No</td>\n",
       "      <td>No</td>\n",
       "      <td>No</td>\n",
       "      <td>Yes</td>\n",
       "      <td>No</td>\n",
       "      <td>No</td>\n",
       "    </tr>\n",
       "    <tr>\n",
       "      <th>1043852</th>\n",
       "      <td>7.0</td>\n",
       "      <td>8.0</td>\n",
       "      <td>0.0</td>\n",
       "      <td>0.0</td>\n",
       "      <td>0.0</td>\n",
       "      <td>0.0</td>\n",
       "      <td>0.0</td>\n",
       "      <td>0.0</td>\n",
       "      <td>0.0</td>\n",
       "      <td>0.0</td>\n",
       "      <td>...</td>\n",
       "      <td>0.0</td>\n",
       "      <td>0.10</td>\n",
       "      <td>0.13</td>\n",
       "      <td>0.0</td>\n",
       "      <td>No</td>\n",
       "      <td>No</td>\n",
       "      <td>No</td>\n",
       "      <td>Yes</td>\n",
       "      <td>No</td>\n",
       "      <td>No</td>\n",
       "    </tr>\n",
       "    <tr>\n",
       "      <th>1044198</th>\n",
       "      <td>13.0</td>\n",
       "      <td>8.0</td>\n",
       "      <td>0.0</td>\n",
       "      <td>0.0</td>\n",
       "      <td>0.0</td>\n",
       "      <td>0.0</td>\n",
       "      <td>0.0</td>\n",
       "      <td>0.0</td>\n",
       "      <td>0.0</td>\n",
       "      <td>0.0</td>\n",
       "      <td>...</td>\n",
       "      <td>0.0</td>\n",
       "      <td>0.82</td>\n",
       "      <td>0.87</td>\n",
       "      <td>0.0</td>\n",
       "      <td>No</td>\n",
       "      <td>No</td>\n",
       "      <td>No</td>\n",
       "      <td>Yes</td>\n",
       "      <td>No</td>\n",
       "      <td>No</td>\n",
       "    </tr>\n",
       "    <tr>\n",
       "      <th>1045098</th>\n",
       "      <td>6.0</td>\n",
       "      <td>2.0</td>\n",
       "      <td>0.0</td>\n",
       "      <td>0.0</td>\n",
       "      <td>0.0</td>\n",
       "      <td>0.0</td>\n",
       "      <td>0.0</td>\n",
       "      <td>0.0</td>\n",
       "      <td>0.0</td>\n",
       "      <td>0.0</td>\n",
       "      <td>...</td>\n",
       "      <td>0.0</td>\n",
       "      <td>0.00</td>\n",
       "      <td>0.00</td>\n",
       "      <td>0.0</td>\n",
       "      <td>Yes</td>\n",
       "      <td>No</td>\n",
       "      <td>Yes</td>\n",
       "      <td>Yes</td>\n",
       "      <td>No</td>\n",
       "      <td>No</td>\n",
       "    </tr>\n",
       "    <tr>\n",
       "      <th>1045867</th>\n",
       "      <td>4.0</td>\n",
       "      <td>8.0</td>\n",
       "      <td>0.0</td>\n",
       "      <td>0.0</td>\n",
       "      <td>0.0</td>\n",
       "      <td>0.0</td>\n",
       "      <td>0.0</td>\n",
       "      <td>0.0</td>\n",
       "      <td>0.0</td>\n",
       "      <td>0.0</td>\n",
       "      <td>...</td>\n",
       "      <td>0.0</td>\n",
       "      <td>0.82</td>\n",
       "      <td>0.87</td>\n",
       "      <td>0.0</td>\n",
       "      <td>No</td>\n",
       "      <td>No</td>\n",
       "      <td>No</td>\n",
       "      <td>Yes</td>\n",
       "      <td>No</td>\n",
       "      <td>No</td>\n",
       "    </tr>\n",
       "    <tr>\n",
       "      <th>1045918</th>\n",
       "      <td>0.0</td>\n",
       "      <td>2.0</td>\n",
       "      <td>0.0</td>\n",
       "      <td>0.0</td>\n",
       "      <td>0.0</td>\n",
       "      <td>0.0</td>\n",
       "      <td>0.0</td>\n",
       "      <td>0.0</td>\n",
       "      <td>0.0</td>\n",
       "      <td>0.0</td>\n",
       "      <td>...</td>\n",
       "      <td>0.0</td>\n",
       "      <td>0.91</td>\n",
       "      <td>0.82</td>\n",
       "      <td>0.0</td>\n",
       "      <td>No</td>\n",
       "      <td>No</td>\n",
       "      <td>No</td>\n",
       "      <td>Yes</td>\n",
       "      <td>No</td>\n",
       "      <td>No</td>\n",
       "    </tr>\n",
       "    <tr>\n",
       "      <th>1049468</th>\n",
       "      <td>11.0</td>\n",
       "      <td>8.0</td>\n",
       "      <td>0.0</td>\n",
       "      <td>0.0</td>\n",
       "      <td>0.0</td>\n",
       "      <td>0.0</td>\n",
       "      <td>0.0</td>\n",
       "      <td>0.0</td>\n",
       "      <td>0.0</td>\n",
       "      <td>0.0</td>\n",
       "      <td>...</td>\n",
       "      <td>0.0</td>\n",
       "      <td>0.82</td>\n",
       "      <td>0.78</td>\n",
       "      <td>0.0</td>\n",
       "      <td>No</td>\n",
       "      <td>No</td>\n",
       "      <td>No</td>\n",
       "      <td>Yes</td>\n",
       "      <td>No</td>\n",
       "      <td>No</td>\n",
       "    </tr>\n",
       "    <tr>\n",
       "      <th>1050390</th>\n",
       "      <td>12.0</td>\n",
       "      <td>2.0</td>\n",
       "      <td>0.0</td>\n",
       "      <td>0.0</td>\n",
       "      <td>0.0</td>\n",
       "      <td>0.0</td>\n",
       "      <td>0.0</td>\n",
       "      <td>0.0</td>\n",
       "      <td>0.0</td>\n",
       "      <td>0.0</td>\n",
       "      <td>...</td>\n",
       "      <td>0.0</td>\n",
       "      <td>1.00</td>\n",
       "      <td>0.98</td>\n",
       "      <td>0.0</td>\n",
       "      <td>No</td>\n",
       "      <td>No</td>\n",
       "      <td>No</td>\n",
       "      <td>Yes</td>\n",
       "      <td>No</td>\n",
       "      <td>No</td>\n",
       "    </tr>\n",
       "    <tr>\n",
       "      <th>1050440</th>\n",
       "      <td>169.0</td>\n",
       "      <td>2.0</td>\n",
       "      <td>0.0</td>\n",
       "      <td>0.0</td>\n",
       "      <td>0.0</td>\n",
       "      <td>0.0</td>\n",
       "      <td>0.0</td>\n",
       "      <td>0.0</td>\n",
       "      <td>0.0</td>\n",
       "      <td>0.0</td>\n",
       "      <td>...</td>\n",
       "      <td>0.0</td>\n",
       "      <td>1.00</td>\n",
       "      <td>1.00</td>\n",
       "      <td>0.0</td>\n",
       "      <td>No</td>\n",
       "      <td>No</td>\n",
       "      <td>No</td>\n",
       "      <td>Yes</td>\n",
       "      <td>No</td>\n",
       "      <td>No</td>\n",
       "    </tr>\n",
       "    <tr>\n",
       "      <th>1050856</th>\n",
       "      <td>147.0</td>\n",
       "      <td>8.0</td>\n",
       "      <td>0.0</td>\n",
       "      <td>0.0</td>\n",
       "      <td>0.0</td>\n",
       "      <td>0.0</td>\n",
       "      <td>0.0</td>\n",
       "      <td>0.0</td>\n",
       "      <td>0.0</td>\n",
       "      <td>0.0</td>\n",
       "      <td>...</td>\n",
       "      <td>0.0</td>\n",
       "      <td>-99.00</td>\n",
       "      <td>1.00</td>\n",
       "      <td>0.0</td>\n",
       "      <td>No</td>\n",
       "      <td>No</td>\n",
       "      <td>Yes</td>\n",
       "      <td>Yes</td>\n",
       "      <td>No</td>\n",
       "      <td>No</td>\n",
       "    </tr>\n",
       "  </tbody>\n",
       "</table>\n",
       "<p>10 rows × 22 columns</p>\n",
       "</div>"
      ],
      "text/plain": [
       "         national_inv  lead_time  in_transit_qty  forecast_3_month  \\\n",
       "sku                                                                  \n",
       "1043384           2.0        9.0             0.0               0.0   \n",
       "1043852           7.0        8.0             0.0               0.0   \n",
       "1044198          13.0        8.0             0.0               0.0   \n",
       "1045098           6.0        2.0             0.0               0.0   \n",
       "1045867           4.0        8.0             0.0               0.0   \n",
       "1045918           0.0        2.0             0.0               0.0   \n",
       "1049468          11.0        8.0             0.0               0.0   \n",
       "1050390          12.0        2.0             0.0               0.0   \n",
       "1050440         169.0        2.0             0.0               0.0   \n",
       "1050856         147.0        8.0             0.0               0.0   \n",
       "\n",
       "         forecast_6_month  forecast_9_month  sales_1_month  sales_3_month  \\\n",
       "sku                                                                         \n",
       "1043384               0.0               0.0            0.0            0.0   \n",
       "1043852               0.0               0.0            0.0            0.0   \n",
       "1044198               0.0               0.0            0.0            0.0   \n",
       "1045098               0.0               0.0            0.0            0.0   \n",
       "1045867               0.0               0.0            0.0            0.0   \n",
       "1045918               0.0               0.0            0.0            0.0   \n",
       "1049468               0.0               0.0            0.0            0.0   \n",
       "1050390               0.0               0.0            0.0            0.0   \n",
       "1050440               0.0               0.0            0.0            0.0   \n",
       "1050856               0.0               0.0            0.0            0.0   \n",
       "\n",
       "         sales_6_month  sales_9_month  ...  pieces_past_due perf_6_month_avg  \\\n",
       "sku                                    ...                                     \n",
       "1043384            0.0            0.0  ...              0.0             0.99   \n",
       "1043852            0.0            0.0  ...              0.0             0.10   \n",
       "1044198            0.0            0.0  ...              0.0             0.82   \n",
       "1045098            0.0            0.0  ...              0.0             0.00   \n",
       "1045867            0.0            0.0  ...              0.0             0.82   \n",
       "1045918            0.0            0.0  ...              0.0             0.91   \n",
       "1049468            0.0            0.0  ...              0.0             0.82   \n",
       "1050390            0.0            0.0  ...              0.0             1.00   \n",
       "1050440            0.0            0.0  ...              0.0             1.00   \n",
       "1050856            0.0            0.0  ...              0.0           -99.00   \n",
       "\n",
       "         perf_12_month_avg  local_bo_qty  deck_risk  oe_constraint ppap_risk  \\\n",
       "sku                                                                            \n",
       "1043384               0.99           0.0         No             No        No   \n",
       "1043852               0.13           0.0         No             No        No   \n",
       "1044198               0.87           0.0         No             No        No   \n",
       "1045098               0.00           0.0        Yes             No       Yes   \n",
       "1045867               0.87           0.0         No             No        No   \n",
       "1045918               0.82           0.0         No             No        No   \n",
       "1049468               0.78           0.0         No             No        No   \n",
       "1050390               0.98           0.0         No             No        No   \n",
       "1050440               1.00           0.0         No             No        No   \n",
       "1050856               1.00           0.0         No             No       Yes   \n",
       "\n",
       "        stop_auto_buy rev_stop went_on_backorder  \n",
       "sku                                               \n",
       "1043384           Yes       No                No  \n",
       "1043852           Yes       No                No  \n",
       "1044198           Yes       No                No  \n",
       "1045098           Yes       No                No  \n",
       "1045867           Yes       No                No  \n",
       "1045918           Yes       No                No  \n",
       "1049468           Yes       No                No  \n",
       "1050390           Yes       No                No  \n",
       "1050440           Yes       No                No  \n",
       "1050856           Yes       No                No  \n",
       "\n",
       "[10 rows x 22 columns]"
      ]
     },
     "execution_count": 100,
     "metadata": {},
     "output_type": "execute_result"
    }
   ],
   "source": [
    "import pandas as pd\n",
    "ndf = pd.read_csv(\"./filtered_Training_data.csv\" , index_col = 'sku')\n",
    "ndf.head(10)"
   ]
  },
  {
   "cell_type": "code",
   "execution_count": 101,
   "id": "c52234e2",
   "metadata": {},
   "outputs": [
    {
     "data": {
      "text/plain": [
       "national_inv         0\n",
       "lead_time            0\n",
       "in_transit_qty       0\n",
       "forecast_3_month     0\n",
       "forecast_6_month     0\n",
       "forecast_9_month     0\n",
       "sales_1_month        0\n",
       "sales_3_month        0\n",
       "sales_6_month        0\n",
       "sales_9_month        0\n",
       "min_bank             0\n",
       "potential_issue      0\n",
       "pieces_past_due      0\n",
       "perf_6_month_avg     0\n",
       "perf_12_month_avg    0\n",
       "local_bo_qty         0\n",
       "deck_risk            0\n",
       "oe_constraint        0\n",
       "ppap_risk            0\n",
       "stop_auto_buy        0\n",
       "rev_stop             0\n",
       "went_on_backorder    0\n",
       "dtype: int64"
      ]
     },
     "execution_count": 101,
     "metadata": {},
     "output_type": "execute_result"
    }
   ],
   "source": [
    "ndf.isna().sum()"
   ]
  },
  {
   "cell_type": "code",
   "execution_count": 103,
   "id": "4411be45",
   "metadata": {},
   "outputs": [
    {
     "data": {
      "text/plain": [
       "Index(['national_inv', 'lead_time', 'in_transit_qty', 'forecast_3_month',\n",
       "       'forecast_6_month', 'forecast_9_month', 'sales_1_month',\n",
       "       'sales_3_month', 'sales_6_month', 'sales_9_month', 'min_bank',\n",
       "       'potential_issue', 'pieces_past_due', 'perf_6_month_avg',\n",
       "       'perf_12_month_avg', 'local_bo_qty', 'deck_risk', 'oe_constraint',\n",
       "       'ppap_risk', 'stop_auto_buy', 'rev_stop', 'went_on_backorder'],\n",
       "      dtype='object')"
      ]
     },
     "execution_count": 103,
     "metadata": {},
     "output_type": "execute_result"
    }
   ],
   "source": [
    "ndf.columns"
   ]
  },
  {
   "cell_type": "code",
   "execution_count": 4,
   "id": "d9598dda",
   "metadata": {},
   "outputs": [],
   "source": [
    "data = session.execute(\"select * from sample ;\")"
   ]
  },
  {
   "cell_type": "code",
   "execution_count": 5,
   "id": "8d86219a",
   "metadata": {},
   "outputs": [
    {
     "name": "stdout",
     "output_type": "stream",
     "text": [
      "Row(id=UUID('3f5f9f9c-068d-43b9-bb13-702d377407fe'), name='shubham', srno=77)\n",
      "Row(id=UUID('220e7ac4-f056-482e-827f-e09138da4046'), name='shubham', srno=77)\n",
      "Row(id=UUID('da2105de-7721-477e-9474-0af920334061'), name='sam', srno=82)\n",
      "Row(id=UUID('b884d4ac-9e93-44ab-9121-4f6734266407'), name='sam', srno=82)\n",
      "Row(id=UUID('c8c26d7a-0921-4380-8f57-755a8094d7ba'), name='shubham', srno=77)\n",
      "Row(id=UUID('66ee8766-77ba-4eb5-a2f6-74bc77e51e5d'), name='dhruv', srno=75)\n",
      "Row(id=UUID('44fd49e3-b68a-4d6c-a6d1-df71e0a5e802'), name='rocky', srno=84)\n",
      "Row(id=UUID('2bb047f1-bf58-4dc6-92fd-46b12bd7b8c1'), name='rocky', srno=84)\n",
      "Row(id=UUID('65bd3b14-6d28-4f84-a555-55be43919419'), name='dhruv', srno=75)\n"
     ]
    }
   ],
   "source": [
    "for i in data :\n",
    "    print(i)"
   ]
  },
  {
   "cell_type": "code",
   "execution_count": 9,
   "id": "ed672ddb",
   "metadata": {},
   "outputs": [
    {
     "data": {
      "text/plain": [
       "<cassandra.cluster.ResultSet at 0x1a820f3f550>"
      ]
     },
     "execution_count": 9,
     "metadata": {},
     "output_type": "execute_result"
    }
   ],
   "source": [
    "session.execute(\"Insert into sample(id , name , srno ) values ( uuid() , 'rohan' ,  87) ; \")"
   ]
  },
  {
   "cell_type": "code",
   "execution_count": 10,
   "id": "acc8dc69",
   "metadata": {},
   "outputs": [],
   "source": [
    "import numpy as np "
   ]
  },
  {
   "cell_type": "code",
   "execution_count": 12,
   "id": "42579c07",
   "metadata": {},
   "outputs": [],
   "source": [
    "Query4 = \"Insert into sample (id , name , srno) values (uuid() , 'sam' , float(np.nan)) ;\""
   ]
  },
  {
   "cell_type": "code",
   "execution_count": null,
   "id": "1ce8df07",
   "metadata": {},
   "outputs": [],
   "source": [
    "Query4 = \"Insert into sample (id , name , srno) values (uuid() , 'sam' , 82) ;\""
   ]
  },
  {
   "cell_type": "code",
   "execution_count": null,
   "id": "7f23f29f",
   "metadata": {},
   "outputs": [],
   "source": []
  },
  {
   "cell_type": "code",
   "execution_count": null,
   "id": "c72697f5",
   "metadata": {},
   "outputs": [],
   "source": []
  },
  {
   "cell_type": "code",
   "execution_count": 13,
   "id": "e3a60f77",
   "metadata": {},
   "outputs": [
    {
     "ename": "SyntaxException",
     "evalue": "<Error from server: code=2000 [Syntax error in CQL query] message=\"line 1:407 no viable alternative at input ',' (...0.0,0.0,0.0,0.0,0.0,[No],...)\">",
     "output_type": "error",
     "traceback": [
      "\u001b[1;31m---------------------------------------------------------------------------\u001b[0m",
      "\u001b[1;31mSyntaxException\u001b[0m                           Traceback (most recent call last)",
      "\u001b[1;32m<ipython-input-13-239720d82a36>\u001b[0m in \u001b[0;36m<module>\u001b[1;34m()\u001b[0m\n\u001b[0;32m      8\u001b[0m             \u001b[0ma\u001b[0m \u001b[1;33m=\u001b[0m \u001b[0mrow\u001b[0m\u001b[1;33m[\u001b[0m\u001b[1;36m0\u001b[0m\u001b[1;33m]\u001b[0m\u001b[1;33m\u001b[0m\u001b[1;33m\u001b[0m\u001b[0m\n\u001b[0;32m      9\u001b[0m             \u001b[0mb\u001b[0m \u001b[1;33m=\u001b[0m \u001b[0ma\u001b[0m\u001b[1;33m.\u001b[0m\u001b[0mreplace\u001b[0m\u001b[1;33m(\u001b[0m\u001b[1;34m'No'\u001b[0m \u001b[1;33m,\u001b[0m\u001b[1;34m'No'\u001b[0m\u001b[1;33m)\u001b[0m\u001b[1;33m.\u001b[0m\u001b[0mreplace\u001b[0m\u001b[1;33m(\u001b[0m\u001b[1;34m'Yes'\u001b[0m \u001b[1;33m,\u001b[0m \u001b[1;34m'Yes'\u001b[0m\u001b[1;33m)\u001b[0m\u001b[1;33m\u001b[0m\u001b[1;33m\u001b[0m\u001b[0m\n\u001b[1;32m---> 10\u001b[1;33m             \u001b[0msession\u001b[0m\u001b[1;33m.\u001b[0m\u001b[0mexecute\u001b[0m\u001b[1;33m(\u001b[0m\u001b[1;34mf\"Insert into Good_trainingTable(sku,national_inv,lead_time,in_transit_qty,forecast_3_month,forecast_6_month,forecast_9_month,sales_1_month,sales_3_month,sales_6_month,sales_9_month,min_bank,potential_issue,pieces_past_due,perf_6_month_avg,perf_12_month_avg,local_bo_qty,deck_risk,oe_constraint,ppap_risk,stop_auto_buy,rev_stop,went_on_backorder) values ({b}); \"\u001b[0m \u001b[1;33m)\u001b[0m\u001b[1;33m\u001b[0m\u001b[1;33m\u001b[0m\u001b[0m\n\u001b[0m\u001b[0;32m     11\u001b[0m             \u001b[1;32mbreak\u001b[0m\u001b[1;33m\u001b[0m\u001b[1;33m\u001b[0m\u001b[0m\n\u001b[0;32m     12\u001b[0m \u001b[1;33m\u001b[0m\u001b[0m\n",
      "\u001b[1;32mC:\\Users\\DELL\\anaconda3\\envs\\WaferFaultDetection_env\\lib\\site-packages\\cassandra\\cluster.cp36-win_amd64.pyd\u001b[0m in \u001b[0;36mcassandra.cluster.Session.execute\u001b[1;34m()\u001b[0m\n",
      "\u001b[1;32mC:\\Users\\DELL\\anaconda3\\envs\\WaferFaultDetection_env\\lib\\site-packages\\cassandra\\cluster.cp36-win_amd64.pyd\u001b[0m in \u001b[0;36mcassandra.cluster.ResponseFuture.result\u001b[1;34m()\u001b[0m\n",
      "\u001b[1;31mSyntaxException\u001b[0m: <Error from server: code=2000 [Syntax error in CQL query] message=\"line 1:407 no viable alternative at input ',' (...0.0,0.0,0.0,0.0,0.0,[No],...)\">"
     ]
    }
   ],
   "source": [
    "import csv\n",
    "\n",
    "with open(\"./filtered_Training_data.csv\",'r') as f:\n",
    "    next (f)\n",
    "    data = csv.reader(f , delimiter='\\n' )\n",
    "    limit = 0 \n",
    "    for key , row in enumerate(data):\n",
    "            a = row[0]\n",
    "           \n",
    "            session.execute(f\"Insert into Good_trainingTable(sku,national_inv,lead_time,in_transit_qty,forecast_3_month,forecast_6_month,forecast_9_month,sales_1_month,sales_3_month,sales_6_month,sales_9_month,min_bank,potential_issue,pieces_past_due,perf_6_month_avg,perf_12_month_avg,local_bo_qty,deck_risk,oe_constraint,ppap_risk,stop_auto_buy,rev_stop,went_on_backorder) values ({b}); \" )\n",
    "            break  \n",
    "\n"
   ]
  },
  {
   "cell_type": "code",
   "execution_count": null,
   "id": "6c021c1d",
   "metadata": {},
   "outputs": [],
   "source": [
    "1043384,2.0,9.0,0.0,0.0,0.0,0.0,0.0,0.0,0.0,0.0,0.0,No,0.0,0.99,0.99,0.0,No,No,No,Yes,No,No"
   ]
  },
  {
   "cell_type": "code",
   "execution_count": 12,
   "id": "92737360",
   "metadata": {},
   "outputs": [],
   "source": [
    "mini_data = ndf.iloc[[1043852 ,1045098 ,1045867 ,1050440 ] ]\n",
    "mini_data.to_csv('Mini_data.csv')\n"
   ]
  },
  {
   "cell_type": "code",
   "execution_count": 13,
   "id": "c9474106",
   "metadata": {},
   "outputs": [
    {
     "data": {
      "text/plain": [
       "'1043384,2.0,9.0,0.0,0.0,0.0,0.0,0.0,0.0,0.0,0.0,0.0,\"No\",0.0,0.99,0.99,0.0,\"No\",\"No\",\"No\",\"Yes\",\"No\",\"No\"'"
      ]
     },
     "execution_count": 13,
     "metadata": {},
     "output_type": "execute_result"
    }
   ],
   "source": [
    "a.replace('No' , '\"No\"').replace('Yes' , '\"Yes\"')"
   ]
  },
  {
   "cell_type": "code",
   "execution_count": 6,
   "id": "cdc23db4",
   "metadata": {},
   "outputs": [
    {
     "data": {
      "text/plain": [
       "<cassandra.cluster.ResultSet at 0x22ba8f6c240>"
      ]
     },
     "execution_count": 6,
     "metadata": {},
     "output_type": "execute_result"
    }
   ],
   "source": [
    "session.execute(\"Insert into Good_trainingTable(sku,national_inv,lead_time,in_transit_qty,forecast_3_month,forecast_6_month,forecast_9_month,sales_1_month,sales_3_month,sales_6_month,sales_9_month,min_bank,potential_issue,pieces_past_due,perf_6_month_avg,perf_12_month_avg,local_bo_qty,deck_risk,oe_constraint,ppap_risk,stop_auto_buy,rev_stop,went_on_backorder) values(1043312,2.0,9.0,0.0,0.0,0.0,0.0,0.0,0.0,0.0,0.0,0.0,'No',0.0,0.99,0.99,0.0,'No','No','No','Yes','No','No'); \" )"
   ]
  },
  {
   "cell_type": "markdown",
   "id": "01f0dfb1",
   "metadata": {},
   "source": [
    "## try on minidata\n"
   ]
  },
  {
   "cell_type": "code",
   "execution_count": 22,
   "id": "2dc52c3e",
   "metadata": {},
   "outputs": [
    {
     "data": {
      "text/plain": [
       "'1475763,45.0,8.0,24.0,96.0,144.0,216.0,26.0,101.0,182.0,272.0,51.0,No,0.0,0.98,0.98,0.0,No,No,No,Yes,No,No'"
      ]
     },
     "execution_count": 22,
     "metadata": {},
     "output_type": "execute_result"
    }
   ],
   "source": [
    "import csv\n",
    "\n",
    "with open(\"./Mini_data.csv\",'r') as f:\n",
    "    next (f)\n",
    "    data = csv.reader(f , delimiter='\\n' )\n",
    "    limit = 0 \n",
    "    for key , row in enumerate(data):\n",
    "            a = row[0]\n",
    "            #b = a.replace('No' , ).replace('Yes' , '\"Yes\"')\n",
    "            #session.execute(f'''Insert into Good_trainingTable(sku,national_inv,lead_time,in_transit_qty,forecast_3_month,forecast_6_month,forecast_9_month,sales_1_month,sales_3_month,sales_6_month,sales_9_month,min_bank,potential_issue,pieces_past_due,perf_6_month_avg,perf_12_month_avg,local_bo_qty,deck_risk,oe_constraint,ppap_risk,stop_auto_buy,rev_stop,went_on_backorder) values({b.replace(\" '' \" , \"  \")}); ''' )\n",
    "            break\n",
    "a        "
   ]
  },
  {
   "cell_type": "code",
   "execution_count": 23,
   "id": "f72eb73a",
   "metadata": {},
   "outputs": [
    {
     "name": "stdout",
     "output_type": "stream",
     "text": [
      "['1475763', '45.0', '8.0', '24.0', '96.0', '144.0', '216.0', '26.0', '101.0', '182.0', '272.0', '51.0', 'No', '0.0', '0.98', '0.98', '0.0', 'No', 'No', 'No', 'Yes', 'No', 'No']\n"
     ]
    }
   ],
   "source": [
    "l = a.split(',')\n",
    "print(l)\n",
    "\n",
    "sku ,national_inv  , lead_time , in_transit_qty , forecast_3_month , forecast_6_month , forecast_9_month, sales_1_month , sales_3_month ,sales_6_month  , sales_9_month  ,min_bank , potential_issue ,pieces_past_due  , perf_6_month_avg , perf_12_month_avg  , local_bo_qty  ,deck_risk , oe_constraint, ppap_risk , stop_auto_buy  ,rev_stop  ,went_on_backorder = int(l[0]) , float(l[1]) ,  float(l[2]) ,  float(l[3]) , float(l[4]) ,  float(l[5]) ,  float(l[6]) ,  float(l[7]) , float(l[8]) , float(l[9]) ,  float(l[10]) , float(l[11]) ,  (l[12]), float(l[13]) , float(l[14]) ,  float(l[15])  ,  float(l[16]),  (l[17]),  (l[18]),  (l[19]),  (l[20]),  (l[21]),  (l[22])        "
   ]
  },
  {
   "cell_type": "markdown",
   "id": "bef73da2",
   "metadata": {},
   "source": [
    "# trying to put null values "
   ]
  },
  {
   "cell_type": "code",
   "execution_count": 13,
   "id": "0dad157b",
   "metadata": {},
   "outputs": [
    {
     "name": "stdout",
     "output_type": "stream",
     "text": [
      "Table created Successfully....\n"
     ]
    }
   ],
   "source": [
    "Query = \"Create table if not exists sample2 (sku   int PRIMARY KEY ,national_inv float , lead_time float , in_transit_qty float , forecast_3_month float , went_on_backorder text ) ;\"\n",
    "session.execute(Query)\n",
    "print('Table created Successfully....')"
   ]
  },
  {
   "cell_type": "code",
   "execution_count": 14,
   "id": "a2b0a496",
   "metadata": {},
   "outputs": [
    {
     "data": {
      "text/html": [
       "<div>\n",
       "<style scoped>\n",
       "    .dataframe tbody tr th:only-of-type {\n",
       "        vertical-align: middle;\n",
       "    }\n",
       "\n",
       "    .dataframe tbody tr th {\n",
       "        vertical-align: top;\n",
       "    }\n",
       "\n",
       "    .dataframe thead th {\n",
       "        text-align: right;\n",
       "    }\n",
       "</style>\n",
       "<table border=\"1\" class=\"dataframe\">\n",
       "  <thead>\n",
       "    <tr style=\"text-align: right;\">\n",
       "      <th></th>\n",
       "      <th>sku</th>\n",
       "      <th>national_inv</th>\n",
       "      <th>lead_time</th>\n",
       "      <th>in_transit_qty</th>\n",
       "      <th>forecast_3_month</th>\n",
       "      <th>forecast_6_month</th>\n",
       "      <th>forecast_9_month</th>\n",
       "      <th>sales_1_month</th>\n",
       "      <th>sales_3_month</th>\n",
       "      <th>sales_6_month</th>\n",
       "      <th>...</th>\n",
       "      <th>pieces_past_due</th>\n",
       "      <th>perf_6_month_avg</th>\n",
       "      <th>perf_12_month_avg</th>\n",
       "      <th>local_bo_qty</th>\n",
       "      <th>deck_risk</th>\n",
       "      <th>oe_constraint</th>\n",
       "      <th>ppap_risk</th>\n",
       "      <th>stop_auto_buy</th>\n",
       "      <th>rev_stop</th>\n",
       "      <th>went_on_backorder</th>\n",
       "    </tr>\n",
       "  </thead>\n",
       "  <tbody>\n",
       "    <tr>\n",
       "      <th>0</th>\n",
       "      <td>1475773</td>\n",
       "      <td>45.0</td>\n",
       "      <td>NaN</td>\n",
       "      <td>24</td>\n",
       "      <td>96</td>\n",
       "      <td>144</td>\n",
       "      <td>216</td>\n",
       "      <td>26</td>\n",
       "      <td>101</td>\n",
       "      <td>182</td>\n",
       "      <td>...</td>\n",
       "      <td>0</td>\n",
       "      <td>0.98</td>\n",
       "      <td>0.98</td>\n",
       "      <td>0</td>\n",
       "      <td>No</td>\n",
       "      <td>No</td>\n",
       "      <td>No</td>\n",
       "      <td>Yes</td>\n",
       "      <td>No</td>\n",
       "      <td>No</td>\n",
       "    </tr>\n",
       "    <tr>\n",
       "      <th>1</th>\n",
       "      <td>1477213</td>\n",
       "      <td>873.0</td>\n",
       "      <td>9.0</td>\n",
       "      <td>46</td>\n",
       "      <td>0</td>\n",
       "      <td>207</td>\n",
       "      <td>492</td>\n",
       "      <td>88</td>\n",
       "      <td>395</td>\n",
       "      <td>921</td>\n",
       "      <td>...</td>\n",
       "      <td>0</td>\n",
       "      <td>0.86</td>\n",
       "      <td>0.84</td>\n",
       "      <td>0</td>\n",
       "      <td>No</td>\n",
       "      <td>No</td>\n",
       "      <td>No</td>\n",
       "      <td>Yes</td>\n",
       "      <td>No</td>\n",
       "      <td>No</td>\n",
       "    </tr>\n",
       "    <tr>\n",
       "      <th>2</th>\n",
       "      <td>1478096</td>\n",
       "      <td>21.0</td>\n",
       "      <td>12.0</td>\n",
       "      <td>0</td>\n",
       "      <td>0</td>\n",
       "      <td>0</td>\n",
       "      <td>0</td>\n",
       "      <td>1</td>\n",
       "      <td>3</td>\n",
       "      <td>5</td>\n",
       "      <td>...</td>\n",
       "      <td>0</td>\n",
       "      <td>0.63</td>\n",
       "      <td>0.72</td>\n",
       "      <td>0</td>\n",
       "      <td>No</td>\n",
       "      <td>No</td>\n",
       "      <td>No</td>\n",
       "      <td>Yes</td>\n",
       "      <td>No</td>\n",
       "      <td>No</td>\n",
       "    </tr>\n",
       "    <tr>\n",
       "      <th>3</th>\n",
       "      <td>1483257</td>\n",
       "      <td>NaN</td>\n",
       "      <td>8.0</td>\n",
       "      <td>0</td>\n",
       "      <td>0</td>\n",
       "      <td>0</td>\n",
       "      <td>0</td>\n",
       "      <td>233</td>\n",
       "      <td>321</td>\n",
       "      <td>342</td>\n",
       "      <td>...</td>\n",
       "      <td>0</td>\n",
       "      <td>0.93</td>\n",
       "      <td>0.91</td>\n",
       "      <td>0</td>\n",
       "      <td>No</td>\n",
       "      <td>No</td>\n",
       "      <td>No</td>\n",
       "      <td>Yes</td>\n",
       "      <td>No</td>\n",
       "      <td>No</td>\n",
       "    </tr>\n",
       "  </tbody>\n",
       "</table>\n",
       "<p>4 rows × 23 columns</p>\n",
       "</div>"
      ],
      "text/plain": [
       "       sku  national_inv  lead_time  in_transit_qty  forecast_3_month  \\\n",
       "0  1475773          45.0        NaN              24                96   \n",
       "1  1477213         873.0        9.0              46                 0   \n",
       "2  1478096          21.0       12.0               0                 0   \n",
       "3  1483257           NaN        8.0               0                 0   \n",
       "\n",
       "   forecast_6_month  forecast_9_month  sales_1_month  sales_3_month  \\\n",
       "0               144               216             26            101   \n",
       "1               207               492             88            395   \n",
       "2                 0                 0              1              3   \n",
       "3                 0                 0            233            321   \n",
       "\n",
       "   sales_6_month  ...  pieces_past_due  perf_6_month_avg perf_12_month_avg  \\\n",
       "0            182  ...                0              0.98              0.98   \n",
       "1            921  ...                0              0.86              0.84   \n",
       "2              5  ...                0              0.63              0.72   \n",
       "3            342  ...                0              0.93              0.91   \n",
       "\n",
       "   local_bo_qty  deck_risk  oe_constraint  ppap_risk stop_auto_buy rev_stop  \\\n",
       "0             0         No             No         No           Yes       No   \n",
       "1             0         No             No         No           Yes       No   \n",
       "2             0         No             No         No           Yes       No   \n",
       "3             0         No             No         No           Yes       No   \n",
       "\n",
       "  went_on_backorder  \n",
       "0                No  \n",
       "1                No  \n",
       "2                No  \n",
       "3                No  \n",
       "\n",
       "[4 rows x 23 columns]"
      ]
     },
     "execution_count": 14,
     "metadata": {},
     "output_type": "execute_result"
    }
   ],
   "source": [
    "import pandas as pd\n",
    "df = pd.read_csv('./Mini_data.csv')\n",
    "df.head()"
   ]
  },
  {
   "cell_type": "code",
   "execution_count": 19,
   "id": "ba95d314",
   "metadata": {},
   "outputs": [],
   "source": [
    "#df.isna().sum()"
   ]
  },
  {
   "cell_type": "code",
   "execution_count": 59,
   "id": "05c92026",
   "metadata": {},
   "outputs": [
    {
     "name": "stderr",
     "output_type": "stream",
     "text": [
      "C:\\Users\\DELL\\anaconda3\\envs\\WaferFaultDetection_env\\lib\\site-packages\\pandas\\core\\frame.py:4259: SettingWithCopyWarning: \n",
      "A value is trying to be set on a copy of a slice from a DataFrame\n",
      "\n",
      "See the caveats in the documentation: http://pandas.pydata.org/pandas-docs/stable/user_guide/indexing.html#returning-a-view-versus-a-copy\n",
      "  **kwargs\n"
     ]
    },
    {
     "data": {
      "text/html": [
       "<div>\n",
       "<style scoped>\n",
       "    .dataframe tbody tr th:only-of-type {\n",
       "        vertical-align: middle;\n",
       "    }\n",
       "\n",
       "    .dataframe tbody tr th {\n",
       "        vertical-align: top;\n",
       "    }\n",
       "\n",
       "    .dataframe thead th {\n",
       "        text-align: right;\n",
       "    }\n",
       "</style>\n",
       "<table border=\"1\" class=\"dataframe\">\n",
       "  <thead>\n",
       "    <tr style=\"text-align: right;\">\n",
       "      <th></th>\n",
       "      <th>sku</th>\n",
       "      <th>national_inv</th>\n",
       "      <th>lead_time</th>\n",
       "      <th>in_transit_qty</th>\n",
       "      <th>forecast_3_month</th>\n",
       "      <th>went_on_backorder</th>\n",
       "    </tr>\n",
       "  </thead>\n",
       "  <tbody>\n",
       "    <tr>\n",
       "      <th>0</th>\n",
       "      <td>1475773</td>\n",
       "      <td>45.0</td>\n",
       "      <td>NaN</td>\n",
       "      <td>24</td>\n",
       "      <td>96</td>\n",
       "      <td>No</td>\n",
       "    </tr>\n",
       "    <tr>\n",
       "      <th>1</th>\n",
       "      <td>1477213</td>\n",
       "      <td>873.0</td>\n",
       "      <td>9.0</td>\n",
       "      <td>46</td>\n",
       "      <td>0</td>\n",
       "      <td>No</td>\n",
       "    </tr>\n",
       "    <tr>\n",
       "      <th>2</th>\n",
       "      <td>1478096</td>\n",
       "      <td>21.0</td>\n",
       "      <td>12.0</td>\n",
       "      <td>0</td>\n",
       "      <td>0</td>\n",
       "      <td>No</td>\n",
       "    </tr>\n",
       "    <tr>\n",
       "      <th>3</th>\n",
       "      <td>1483257</td>\n",
       "      <td>NaN</td>\n",
       "      <td>8.0</td>\n",
       "      <td>0</td>\n",
       "      <td>0</td>\n",
       "      <td>No</td>\n",
       "    </tr>\n",
       "  </tbody>\n",
       "</table>\n",
       "</div>"
      ],
      "text/plain": [
       "       sku  national_inv  lead_time  in_transit_qty  forecast_3_month  \\\n",
       "0  1475773          45.0        NaN              24                96   \n",
       "1  1477213         873.0        9.0              46                 0   \n",
       "2  1478096          21.0       12.0               0                 0   \n",
       "3  1483257           NaN        8.0               0                 0   \n",
       "\n",
       "  went_on_backorder  \n",
       "0                No  \n",
       "1                No  \n",
       "2                No  \n",
       "3                No  "
      ]
     },
     "execution_count": 59,
     "metadata": {},
     "output_type": "execute_result"
    }
   ],
   "source": [
    "#sku   int PRIMARY KEY ,national_inv float , lead_time float , in_transit_qty float , forecast_3_month float , went_on_backorder text \n",
    "\n",
    "df2 = df[['sku' ,'national_inv' , 'lead_time' ,'in_transit_qty' , \"forecast_3_month\" , 'went_on_backorder']]\n",
    "df2.fillna(np.nan , inplace = True)\n",
    "df2.head()"
   ]
  },
  {
   "cell_type": "code",
   "execution_count": 60,
   "id": "9ff52a7a",
   "metadata": {},
   "outputs": [
    {
     "data": {
      "text/plain": [
       "<cassandra.cluster.ResultSet at 0x1a8233eda90>"
      ]
     },
     "execution_count": 60,
     "metadata": {},
     "output_type": "execute_result"
    }
   ],
   "source": [
    "Query_ = \"Insert into sample2(sku , national_inv,lead_time,in_transit_qty,forecast_3_month,went_on_backorder) values(114 , nan , 45 , 45  , 45 , 'yes') ; \"\n",
    "session.execute(Query_)"
   ]
  },
  {
   "cell_type": "code",
   "execution_count": 90,
   "id": "ed764fcf",
   "metadata": {},
   "outputs": [
    {
     "name": "stdout",
     "output_type": "stream",
     "text": [
      "Insert into sample2(sku , national_inv,lead_time,in_transit_qty,forecast_3_month,went_on_backorder) values(1475773 , 45.0,nan,24 ,96 , 'No') ; \n",
      "Insert into sample2(sku , national_inv,lead_time,in_transit_qty,forecast_3_month,went_on_backorder) values(1477213 , 873.0,9.0,46 ,0 , 'No') ; \n",
      "Insert into sample2(sku , national_inv,lead_time,in_transit_qty,forecast_3_month,went_on_backorder) values(1478096 , 21.0,12.0,0 ,0 , 'No') ; \n",
      "Insert into sample2(sku , national_inv,lead_time,in_transit_qty,forecast_3_month,went_on_backorder) values(1483257 , nan,8.0,0 ,0 , 'No') ; \n"
     ]
    }
   ],
   "source": [
    "l = df2.values\n",
    "for i in l : \n",
    "    s = list(i)\n",
    "    Query_ = f\"Insert into sample2(sku , national_inv,lead_time,in_transit_qty,forecast_3_month,went_on_backorder) values({s[0]} , {s[1]},{s[2]},{s[3]} ,{s[4]} , '{s[5]}') ; \"\n",
    "    print(Query_)\n",
    "    session.execute(Query_)"
   ]
  },
  {
   "cell_type": "code",
   "execution_count": 86,
   "id": "ed73b5ed",
   "metadata": {},
   "outputs": [
    {
     "name": "stdout",
     "output_type": "stream",
     "text": [
      "Insert into sample2(sku , national_inv,lead_time,in_transit_qty,forecast_3_month,went_on_backorder) values(1475773 , 45.0,nan,24 ,96 , 'No') ; \n"
     ]
    },
    {
     "data": {
      "text/plain": [
       "<cassandra.cluster.ResultSet at 0x1a82354de80>"
      ]
     },
     "execution_count": 86,
     "metadata": {},
     "output_type": "execute_result"
    }
   ],
   "source": [
    "Query_ = f\"Insert into sample2(sku , national_inv,lead_time,in_transit_qty,forecast_3_month,went_on_backorder) values({s[0]} , {s[1]},{s[2]},{s[3]} ,{s[4]} , '{s[5]}') ; \"\n",
    "print(Query_)\n",
    "session.execute(Query_)"
   ]
  },
  {
   "cell_type": "code",
   "execution_count": 78,
   "id": "bbb29100",
   "metadata": {},
   "outputs": [
    {
     "data": {
      "text/plain": [
       "nan"
      ]
     },
     "execution_count": 78,
     "metadata": {},
     "output_type": "execute_result"
    }
   ],
   "source": [
    "Q"
   ]
  },
  {
   "cell_type": "code",
   "execution_count": null,
   "id": "fed206c3",
   "metadata": {},
   "outputs": [],
   "source": []
  },
  {
   "cell_type": "raw",
   "id": "67ffcc12",
   "metadata": {},
   "source": [
    "import csv\n",
    "\n",
    "with open(\"./modified_csv2.csv\",'r') as f:\n",
    "    next (f)\n",
    "    data = csv.reader(f , delimiter='\\n' )\n",
    "    limit = 0 \n",
    "    for key , row in enumerate(data):\n",
    "            a = row[0]\n",
    "            l =a.split(',')\n",
    "            print(a)\n",
    "            sku ,national_inv  , lead_time , in_transit_qty , forecast_3_month , forecast_6_month , forecast_9_month, sales_1_month , sales_3_month ,sales_6_month  , sales_9_month  ,min_bank , potential_issue ,pieces_past_due  , perf_6_month_avg , perf_12_month_avg  , local_bo_qty  ,deck_risk , oe_constraint, ppap_risk , stop_auto_buy  ,rev_stop  ,went_on_backorder = int(l[0]) , float(l[1]) ,  float(l[2]) ,  float(l[3]) , float(l[4]) ,  float(l[5]) ,  float(l[6]) ,  float(l[7]) , float(l[8]) , float(l[9]) ,  float(l[10]) , float(l[11]) ,  (l[12]), float(l[13]) , float(l[14]) ,  float(l[15])  ,  float(l[16]),  (l[17]),  (l[18]),  (l[19]),  (l[20]),  (l[21]),  (l[22])   \n",
    "            \n",
    "            #session.execute(f\"Insert into Good_trainingTable(sku,national_inv,lead_time,in_transit_qty,forecast_3_month,forecast_6_month,forecast_9_month,sales_1_month,sales_3_month,sales_6_month,sales_9_month,min_bank,potential_issue,pieces_past_due,perf_6_month_avg,perf_12_month_avg,local_bo_qty,deck_risk,oe_constraint,ppap_risk,stop_auto_buy,rev_stop,went_on_backorder) values ({sku} , {national_inv}, {lead_time} , {in_transit_qty} , {forecast_3_month} , {forecast_6_month} , {forecast_9_month} , {sales_1_month}, {sales_3_month},{sales_6_month} ,{sales_9_month} , {min_bank} , {potential_issue} ,{pieces_past_due} , {perf_6_month_avg}, {perf_12_month_avg}  , {local_bo_qty}  ,{deck_risk} , {oe_constraint}, {ppap_risk} , {stop_auto_buy}  ,{rev_stop}  ,{went_on_backorder});\" )\n",
    "            \n",
    "            \n",
    "            "
   ]
  },
  {
   "cell_type": "code",
   "execution_count": 40,
   "id": "37bbd2f9",
   "metadata": {},
   "outputs": [
    {
     "data": {
      "text/plain": [
       "nan"
      ]
     },
     "execution_count": 40,
     "metadata": {},
     "output_type": "execute_result"
    }
   ],
   "source": [
    "float(np.nan)"
   ]
  },
  {
   "cell_type": "code",
   "execution_count": null,
   "id": "e4e3dadc",
   "metadata": {},
   "outputs": [],
   "source": []
  },
  {
   "cell_type": "code",
   "execution_count": null,
   "id": "a1816324",
   "metadata": {},
   "outputs": [],
   "source": []
  },
  {
   "cell_type": "code",
   "execution_count": 49,
   "id": "2a18e3f9",
   "metadata": {},
   "outputs": [
    {
     "name": "stdout",
     "output_type": "stream",
     "text": [
      "No\n"
     ]
    }
   ],
   "source": [
    "sku\n",
    "national_inv\n",
    "lead_time\n",
    "in_transit_qty\n",
    "forecast_3_month\n",
    "print(went_on_backorder)"
   ]
  },
  {
   "cell_type": "code",
   "execution_count": null,
   "id": "1b7b58cf",
   "metadata": {},
   "outputs": [],
   "source": []
  },
  {
   "cell_type": "code",
   "execution_count": null,
   "id": "ee400315",
   "metadata": {},
   "outputs": [],
   "source": [
    "{sku} ,\n",
    "{national_inv}, \n",
    "{lead_time} , \n",
    "{in_transit_qty} ,\n",
    "{forecast_3_month} ,\n",
    "{forecast_6_month} , \n",
    "{forecast_9_month} , \n",
    "{sales_1_month}, \n",
    "{sales_3_month},\n",
    "{sales_6_month} ,\n",
    "{sales_9_month} ,\n",
    "{min_bank} , \n",
    "{potential_issue} ,\n",
    "{pieces_past_due} ,\n",
    "{perf_6_month_avg}, \n",
    "{perf_12_month_avg}  , \n",
    "{local_bo_qty}  ,\n",
    "{deck_risk} , \n",
    "{oe_constraint},\n",
    "{ppap_risk} , \n",
    "{stop_auto_buy}  ,\n",
    "{rev_stop}  ,\n",
    "{went_on_backorder}"
   ]
  },
  {
   "cell_type": "code",
   "execution_count": 40,
   "id": "f4bdbb00",
   "metadata": {},
   "outputs": [
    {
     "data": {
      "text/plain": [
       "'hi 20,shub'"
      ]
     },
     "execution_count": 40,
     "metadata": {},
     "output_type": "execute_result"
    }
   ],
   "source": [
    "z = 20\n",
    "vb = 'shub'\n",
    "\n",
    "f\"hi {z},{vb}\""
   ]
  },
  {
   "cell_type": "code",
   "execution_count": 28,
   "id": "f4d8bb2a",
   "metadata": {},
   "outputs": [
    {
     "data": {
      "text/plain": [
       "'1475763,45.0,8.0,24.0,96.0,144.0,216.0,26.0,101.0,182.0,272.0,51.0,No,0.0,0.98,0.98,0.0,No,No,No,Yes,No,No'"
      ]
     },
     "execution_count": 28,
     "metadata": {},
     "output_type": "execute_result"
    }
   ],
   "source": [
    "a"
   ]
  },
  {
   "cell_type": "code",
   "execution_count": null,
   "id": "83030dd3",
   "metadata": {
    "scrolled": true
   },
   "outputs": [],
   "source": [
    "sku  int PRIMARY KEY,national_inv  float ,\n",
    "lead_time  float , \n",
    "in_transit_qty  float\n",
    ", forecast_3_month  float\n",
    ", forecast_6_month  float , \n",
    "forecast_9_month  float , \n",
    "sales_1_month  float ,\n",
    "sales_3_month  float ,\n",
    "sales_6_month  float , \n",
    "sales_9_month  float ,\n",
    "min_bank  float , \n",
    "potential_issue  text,\n",
    "pieces_past_due  float ,\n",
    "perf_6_month_avg  float ,\n",
    "perf_12_month_avg  float , \n",
    "local_bo_qty  float ,\n",
    "deck_risk  text,\n",
    "oe_constraint  text  ,\n",
    "ppap_risk  text,\n",
    "stop_auto_buy  text,\n",
    "rev_stop  text,\n",
    "went_on_backorder  text"
   ]
  },
  {
   "cell_type": "code",
   "execution_count": null,
   "id": "0dbe62f5",
   "metadata": {},
   "outputs": [],
   "source": []
  },
  {
   "cell_type": "code",
   "execution_count": 17,
   "id": "ae0b2769",
   "metadata": {},
   "outputs": [
    {
     "data": {
      "text/plain": [
       "'D:\\\\Cassandra files'"
      ]
     },
     "execution_count": 17,
     "metadata": {},
     "output_type": "execute_result"
    }
   ],
   "source": [
    "filename = 'Mini_data.csv'\n",
    "os.getcwd()"
   ]
  },
  {
   "cell_type": "code",
   "execution_count": 18,
   "id": "ec6e5a45",
   "metadata": {},
   "outputs": [
    {
     "data": {
      "text/plain": [
       "'D:\\\\Cassandra files\\\\Mini_data.csv'"
      ]
     },
     "execution_count": 18,
     "metadata": {},
     "output_type": "execute_result"
    }
   ],
   "source": [
    "path = os.path.join(os.getcwd() , 'Mini_data.csv' )\n",
    "path"
   ]
  },
  {
   "cell_type": "code",
   "execution_count": 47,
   "id": "5f3a7bb3",
   "metadata": {},
   "outputs": [
    {
     "data": {
      "text/plain": [
       "Row(sku=1043384, deck_risk='No', forecast_3_month=0.0, forecast_6_month=0.0, forecast_9_month=0.0, in_transit_qty=0.0, lead_time=9.0, local_bo_qty=0.0, min_bank=0.0, national_inv=2.0, oe_constraint='No', perf_12_month_avg=0.9900000095367432, perf_6_month_avg=0.9900000095367432, pieces_past_due=0.0, potential_issue='No', ppap_risk='No', rev_stop='No', sales_1_month=0.0, sales_3_month=0.0, sales_6_month=0.0, sales_9_month=0.0, stop_auto_buy='Yes', went_on_backorder='No')"
      ]
     },
     "execution_count": 47,
     "metadata": {},
     "output_type": "execute_result"
    }
   ],
   "source": [
    "session.execute(\"select * from Good_trainingTable\").one()"
   ]
  },
  {
   "cell_type": "code",
   "execution_count": null,
   "id": "820cb8a1",
   "metadata": {},
   "outputs": [],
   "source": []
  },
  {
   "cell_type": "markdown",
   "id": "0061ea60",
   "metadata": {},
   "source": [
    "## Data getter"
   ]
  },
  {
   "cell_type": "code",
   "execution_count": 8,
   "id": "9d6edd1b",
   "metadata": {},
   "outputs": [
    {
     "data": {
      "text/plain": [
       "<cassandra.cluster.ResultSet at 0x1d72a0aea20>"
      ]
     },
     "execution_count": 8,
     "metadata": {},
     "output_type": "execute_result"
    }
   ],
   "source": [
    "session.execute('use \"Good_training_data\"') "
   ]
  },
  {
   "cell_type": "code",
   "execution_count": 9,
   "id": "6ef905fc",
   "metadata": {},
   "outputs": [
    {
     "name": "stdout",
     "output_type": "stream",
     "text": [
      "Table created Successfully....\n"
     ]
    }
   ],
   "source": [
    "# creating demo tables\n",
    "Query = 'Create table if not exists sample (id uuid PRIMARY KEY , name text , srno int)'\n",
    "session.execute(f\"{Query}\")\n",
    "print('Table created Successfully....')\n"
   ]
  },
  {
   "cell_type": "code",
   "execution_count": 10,
   "id": "f6588a61",
   "metadata": {},
   "outputs": [
    {
     "data": {
      "text/plain": [
       "<cassandra.cluster.ResultSet at 0x1d73899ec50>"
      ]
     },
     "execution_count": 10,
     "metadata": {},
     "output_type": "execute_result"
    }
   ],
   "source": [
    "# inserting random data \n",
    "Query1 = \"Insert into sample (id , name , srno) values ( uuid(), 'shubham' , 77); \"\n",
    "Query2 = \"Insert into sample (id , name , srno) values  (uuid() , 'dhruv' , 75) ;\"\n",
    "Query3 = \"Insert into sample (id , name , srno) values (uuid() , 'rocky' , 84) ;\"\n",
    "Query4 = \"Insert into sample (id , name , srno) values (uuid() , 'sam' , 82) ;\"\n",
    "\n",
    "session.execute(Query1)\n",
    "session.execute(f\"{Query2}\")\n",
    "session.execute(f\"{Query3}\")\n",
    "session.execute(f\"{Query4}\")"
   ]
  },
  {
   "cell_type": "code",
   "execution_count": 39,
   "id": "7d5ac90f",
   "metadata": {},
   "outputs": [],
   "source": [
    "data = session.execute('select * from sample')"
   ]
  },
  {
   "cell_type": "code",
   "execution_count": 24,
   "id": "1fdfcc6a",
   "metadata": {},
   "outputs": [
    {
     "name": "stdout",
     "output_type": "stream",
     "text": [
      "[[UUID('3f5f9f9c-068d-43b9-bb13-702d377407fe'), 'shubham', 77], [UUID('220e7ac4-f056-482e-827f-e09138da4046'), 'shubham', 77], [UUID('da2105de-7721-477e-9474-0af920334061'), 'sam', 82], [UUID('b884d4ac-9e93-44ab-9121-4f6734266407'), 'sam', 82], [UUID('c8c26d7a-0921-4380-8f57-755a8094d7ba'), 'shubham', 77], [UUID('66ee8766-77ba-4eb5-a2f6-74bc77e51e5d'), 'dhruv', 75], [UUID('44fd49e3-b68a-4d6c-a6d1-df71e0a5e802'), 'rocky', 84], [UUID('2bb047f1-bf58-4dc6-92fd-46b12bd7b8c1'), 'rocky', 84], [UUID('65bd3b14-6d28-4f84-a555-55be43919419'), 'dhruv', 75]]\n"
     ]
    }
   ],
   "source": [
    "l = []\n",
    "for i in data :\n",
    "    headers = [x.title() for x in data.column_names]    \n",
    "    l.append( [i[0] , i[1] , i[2]])\n",
    "    \n",
    "print(l)"
   ]
  },
  {
   "cell_type": "code",
   "execution_count": 25,
   "id": "78684b99",
   "metadata": {},
   "outputs": [
    {
     "data": {
      "text/plain": [
       "[[UUID('3f5f9f9c-068d-43b9-bb13-702d377407fe'), 'shubham', 77],\n",
       " [UUID('220e7ac4-f056-482e-827f-e09138da4046'), 'shubham', 77],\n",
       " [UUID('da2105de-7721-477e-9474-0af920334061'), 'sam', 82],\n",
       " [UUID('b884d4ac-9e93-44ab-9121-4f6734266407'), 'sam', 82],\n",
       " [UUID('c8c26d7a-0921-4380-8f57-755a8094d7ba'), 'shubham', 77],\n",
       " [UUID('66ee8766-77ba-4eb5-a2f6-74bc77e51e5d'), 'dhruv', 75],\n",
       " [UUID('44fd49e3-b68a-4d6c-a6d1-df71e0a5e802'), 'rocky', 84],\n",
       " [UUID('2bb047f1-bf58-4dc6-92fd-46b12bd7b8c1'), 'rocky', 84],\n",
       " [UUID('65bd3b14-6d28-4f84-a555-55be43919419'), 'dhruv', 75]]"
      ]
     },
     "execution_count": 25,
     "metadata": {},
     "output_type": "execute_result"
    }
   ],
   "source": [
    "l"
   ]
  },
  {
   "cell_type": "code",
   "execution_count": 28,
   "id": "d81ea201",
   "metadata": {},
   "outputs": [],
   "source": [
    "  \n",
    "# writing to csv file \n",
    "with open('Imported_data.csv', 'w' , newline='') as csvfile:  \n",
    "    csvwriter = csv.writer(csvfile)  \n",
    "    csvwriter.writerow(headers)  \n",
    "    csvwriter.writerows(l)"
   ]
  },
  {
   "cell_type": "code",
   "execution_count": 40,
   "id": "02d79d0e",
   "metadata": {},
   "outputs": [
    {
     "name": "stdout",
     "output_type": "stream",
     "text": [
      "Row(id=UUID('3f5f9f9c-068d-43b9-bb13-702d377407fe'), name='shubham', srno=77)\n",
      "Row(id=UUID('220e7ac4-f056-482e-827f-e09138da4046'), name='shubham', srno=77)\n",
      "Row(id=UUID('da2105de-7721-477e-9474-0af920334061'), name='sam', srno=82)\n",
      "Row(id=UUID('b884d4ac-9e93-44ab-9121-4f6734266407'), name='sam', srno=82)\n",
      "Row(id=UUID('c8c26d7a-0921-4380-8f57-755a8094d7ba'), name='shubham', srno=77)\n",
      "Row(id=UUID('66ee8766-77ba-4eb5-a2f6-74bc77e51e5d'), name='dhruv', srno=75)\n",
      "Row(id=UUID('44fd49e3-b68a-4d6c-a6d1-df71e0a5e802'), name='rocky', srno=84)\n",
      "Row(id=UUID('2bb047f1-bf58-4dc6-92fd-46b12bd7b8c1'), name='rocky', srno=84)\n",
      "Row(id=UUID('65bd3b14-6d28-4f84-a555-55be43919419'), name='dhruv', srno=75)\n"
     ]
    }
   ],
   "source": [
    "for i in data :\n",
    "    print(i)"
   ]
  },
  {
   "cell_type": "code",
   "execution_count": 66,
   "id": "fa28b0b0",
   "metadata": {},
   "outputs": [
    {
     "name": "stdout",
     "output_type": "stream",
     "text": [
      "['id', 'name', 'srno']\n"
     ]
    }
   ],
   "source": [
    "from cassandra.query import SimpleStatement\n",
    "statement = SimpleStatement(\"SELECT * FROM sample\", fetch_size=10 )\n",
    "data = session.execute(statement)\n",
    "print(data.column_names)"
   ]
  },
  {
   "cell_type": "code",
   "execution_count": 111,
   "id": "fba79f66",
   "metadata": {},
   "outputs": [],
   "source": [
    "from cassandra.query import tuple_factory\n",
    "session.row_factory = tuple_factory\n",
    "rows = session.execute(\"SELECT * from sample ;\")\n",
    "# writing to csv file \n",
    "with open('Imported_data4.csv', 'w' , newline='') as csvfile:  \n",
    "    csvwriter = csv.writer(csvfile)  \n",
    "    csvwriter.writerow(['id', 'name', 'srno'])  \n",
    "    csvwriter.writerows(rows)"
   ]
  },
  {
   "cell_type": "code",
   "execution_count": 107,
   "id": "d598d9f0",
   "metadata": {},
   "outputs": [],
   "source": [
    "fieldnames = ['sku' , 'national_inv', 'lead_time', 'in_transit_qty', 'forecast_3_month',\n",
    "       'forecast_6_month', 'forecast_9_month', 'sales_1_month',\n",
    "       'sales_3_month', 'sales_6_month', 'sales_9_month', 'min_bank',\n",
    "       'potential_issue', 'pieces_past_due', 'perf_6_month_avg',\n",
    "       'perf_12_month_avg', 'local_bo_qty', 'deck_risk', 'oe_constraint',\n",
    "       'ppap_risk', 'stop_auto_buy', 'rev_stop', 'went_on_backorder']"
   ]
  },
  {
   "cell_type": "code",
   "execution_count": 112,
   "id": "7d5f1298",
   "metadata": {},
   "outputs": [],
   "source": [
    "from cassandra.query import dict_factory\n",
    "session.row_factory = dict_factory\n",
    "rows = list( session.execute(\"SELECT * from good_trainingtable ;\") ) \n",
    "with open('Names2.csv', 'w' ,newline=\"\" ) as csvfile:\n",
    "    writer = csv.DictWriter(csvfile, fieldnames= fieldnames)\n",
    "    writer.writeheader()\n",
    "    writer.writerows(rows)"
   ]
  },
  {
   "cell_type": "code",
   "execution_count": 97,
   "id": "3d58c4b9",
   "metadata": {},
   "outputs": [],
   "source": [
    "from cassandra.query import dict_factory\n",
    "session.row_factory = dict_factory\n",
    "rows = session.execute(\"SELECT * from sample ;\")\n",
    "reco = list(rows)\n",
    "with open('Names.csv', 'w' ,newline='' ) as csvfile:\n",
    "    writer = csv.DictWriter(csvfile, fieldnames=['id', 'name', 'srno'])\n",
    "    writer.writeheader()\n",
    "    writer.writerows(reco)"
   ]
  },
  {
   "cell_type": "code",
   "execution_count": 88,
   "id": "02e5fb78",
   "metadata": {},
   "outputs": [
    {
     "data": {
      "text/plain": [
       "[{'id': UUID('3f5f9f9c-068d-43b9-bb13-702d377407fe'),\n",
       "  'name': 'shubham',\n",
       "  'srno': 77},\n",
       " {'id': UUID('220e7ac4-f056-482e-827f-e09138da4046'),\n",
       "  'name': 'shubham',\n",
       "  'srno': 77},\n",
       " {'id': UUID('da2105de-7721-477e-9474-0af920334061'),\n",
       "  'name': 'sam',\n",
       "  'srno': 82},\n",
       " {'id': UUID('b884d4ac-9e93-44ab-9121-4f6734266407'),\n",
       "  'name': 'sam',\n",
       "  'srno': 82},\n",
       " {'id': UUID('c8c26d7a-0921-4380-8f57-755a8094d7ba'),\n",
       "  'name': 'shubham',\n",
       "  'srno': 77},\n",
       " {'id': UUID('66ee8766-77ba-4eb5-a2f6-74bc77e51e5d'),\n",
       "  'name': 'dhruv',\n",
       "  'srno': 75},\n",
       " {'id': UUID('44fd49e3-b68a-4d6c-a6d1-df71e0a5e802'),\n",
       "  'name': 'rocky',\n",
       "  'srno': 84},\n",
       " {'id': UUID('2bb047f1-bf58-4dc6-92fd-46b12bd7b8c1'),\n",
       "  'name': 'rocky',\n",
       "  'srno': 84},\n",
       " {'id': UUID('65bd3b14-6d28-4f84-a555-55be43919419'),\n",
       "  'name': 'dhruv',\n",
       "  'srno': 75}]"
      ]
     },
     "execution_count": 88,
     "metadata": {},
     "output_type": "execute_result"
    }
   ],
   "source": [
    "reco"
   ]
  },
  {
   "cell_type": "code",
   "execution_count": 114,
   "id": "2ab9f4a8",
   "metadata": {},
   "outputs": [],
   "source": [
    "fieldnames = [   'sku','national_inv', 'lead_time', 'in_transit_qty', 'forecast_3_month',\n",
    "                                'forecast_6_month', 'forecast_9_month', 'sales_1_month',\n",
    "                                'sales_3_month', 'sales_6_month', 'sales_9_month', 'min_bank',\n",
    "                                'potential_issue', 'pieces_past_due', 'perf_6_month_avg',\n",
    "                                'perf_12_month_avg', 'local_bo_qty', 'deck_risk', 'oe_constraint'\n",
    "                                'ppap_risk', 'stop_auto_buy', 'rev_stop', 'went_on_backorder'\n",
    "                                ]"
   ]
  },
  {
   "cell_type": "code",
   "execution_count": 116,
   "id": "148e5798",
   "metadata": {},
   "outputs": [],
   "source": [
    "fieldnames = ['sku' , 'national_inv', 'lead_time', 'in_transit_qty', 'forecast_3_month',\n",
    "       'forecast_6_month', 'forecast_9_month', 'sales_1_month',\n",
    "       'sales_3_month', 'sales_6_month', 'sales_9_month', 'min_bank',\n",
    "       'potential_issue', 'pieces_past_due', 'perf_6_month_avg',\n",
    "       'perf_12_month_avg', 'local_bo_qty', 'deck_risk', 'oe_constraint',\n",
    "       'ppap_risk', 'stop_auto_buy', 'rev_stop', 'went_on_backorder']"
   ]
  },
  {
   "cell_type": "code",
   "execution_count": 117,
   "id": "7cbaad3f",
   "metadata": {},
   "outputs": [],
   "source": [
    "from cassandra.query import dict_factory\n",
    "session.row_factory = dict_factory\n",
    "rows = list( session.execute(\"SELECT * from good_trainingtable ;\") ) \n",
    "with open(\"finaltest.csv\" , mode='w' , newline=\"\") as csv_file :\n",
    "    writer = csv.DictWriter( csv_file , fieldnames= fieldnames)\n",
    "    writer.writeheader()\n",
    "    writer.writerows(rows) "
   ]
  },
  {
   "cell_type": "markdown",
   "id": "5b2c6acc",
   "metadata": {},
   "source": [
    "## try4 "
   ]
  },
  {
   "cell_type": "code",
   "execution_count": 6,
   "id": "3dd27e52",
   "metadata": {},
   "outputs": [
    {
     "name": "stdout",
     "output_type": "stream",
     "text": [
      "0\n",
      "1043384,2.0,9.0,0.0,0.0,0.0,0.0,0.0,0.0,0.0,0.0,0.0,No,0.0,0.99,0.99,0.0,No,No,No,Yes,No,No\n"
     ]
    }
   ],
   "source": [
    "import csv\n",
    "\n",
    "with open(\"./filtered_Training_data.csv\",'r') as f:\n",
    "    next (f)\n",
    "    data = csv.reader(f , delimiter='\\n' )\n",
    "    limit = 0 \n",
    "    for key , row in enumerate(data):\n",
    "            print(key)\n",
    "            a = row[0]\n",
    "            #l = a.split(',')\n",
    "            #sku ,national_inv  , lead_time , in_transit_qty , forecast_3_month , forecast_6_month , forecast_9_month, sales_1_month , sales_3_month ,sales_6_month  , sales_9_month  ,min_bank , potential_issue ,pieces_past_due  , perf_6_month_avg , perf_12_month_avg  , local_bo_qty  ,deck_risk , oe_constraint, ppap_risk , stop_auto_buy  ,rev_stop  ,went_on_backorder = int(l[0]) , float(l[1]) ,  float(l[2]) ,  float(l[3]) , float(l[4]) ,  float(l[5]) ,  float(l[6]) ,  float(l[7]) , float(l[8]) , float(l[9]) ,  float(l[10]) , float(l[11]) ,  (l[12]), float(l[13]) , float(l[14]) ,  float(l[15])  ,  float(l[16]),  (l[17]),  (l[18]),  (l[19]),  (l[20]),  (l[21]),  (l[22])             \n",
    "            #session.execute(f\"Insert into Good_trainingTable(sku,national_inv,lead_time,in_transit_qty,forecast_3_month,forecast_6_month,forecast_9_month,sales_1_month,sales_3_month,sales_6_month,sales_9_month,min_bank,potential_issue,pieces_past_due,perf_6_month_avg,perf_12_month_avg,local_bo_qty,deck_risk,oe_constraint,ppap_risk,stop_auto_buy,rev_stop,went_on_backorder) values ({sku} ,{national_inv}  , {lead_time} , {in_transit_qty} , {forecast_3_month} , {forecast_6_month} , {forecast_9_month}, {sales_1_month} , {sales_3_month} ,{sales_6_month}  , {sales_9_month}  ,{min_bank} , '{potential_issue}' ,{pieces_past_due}  , {perf_6_month_avg} , {perf_12_month_avg}  , {local_bo_qty}  ,'{deck_risk}' , '{oe_constraint}', '{ppap_risk}' , '{stop_auto_buy}'  ,'{rev_stop}'  ,'{went_on_backorder}'); \" )\n",
    "            break\n",
    "            \n",
    "print(a)\n"
   ]
  },
  {
   "cell_type": "code",
   "execution_count": 85,
   "id": "442a6979",
   "metadata": {},
   "outputs": [],
   "source": [
    "#session.execute(\"CREATE TABLE if not exists Good_trainingTable (sku  int PRIMARY KEY,national_inv  float , lead_time  float , in_transit_qty  float , forecast_3_month  float , forecast_6_month  float , forecast_9_month  float , sales_1_month  float , sales_3_month  float ,sales_6_month  float , sales_9_month  float ,min_bank  float , potential_issue  text,pieces_past_due  float , perf_6_month_avg  float , perf_12_month_avg  float , local_bo_qty  float ,deck_risk  text,oe_constraint  text  , ppap_risk  text,stop_auto_buy  text,rev_stop  text,went_on_backorder  text) ;\" )"
   ]
  },
  {
   "cell_type": "code",
   "execution_count": 84,
   "id": "4ef947c0",
   "metadata": {},
   "outputs": [],
   "source": [
    "#tablename  = 'Good_trainingTable'\n",
    "#a = a\n",
    "\n",
    "#session.execute(\"Insert into Good_trainingTable(sku,national_inv,lead_time,in_transit_qty,forecast_3_month,forecast_6_month,forecast_9_month,sales_1_month,sales_3_month,sales_6_month,sales_9_month,min_bank,potential_issue,pieces_past_due,perf_6_month_avg,perf_12_month_avg,local_bo_qty,deck_risk,oe_constraint,ppap_risk,stop_auto_buy,rev_stop,went_on_backorder) values('1043384,2.0,9.0,0.0,0.0,0.0,0.0,0.0,0.0,0.0,0.0,0.0,No,0.0,0.99,0.99,0.0,No,No,No,Yes,No,No'); \" )"
   ]
  },
  {
   "cell_type": "markdown",
   "id": "5a4f70b7",
   "metadata": {},
   "source": [
    "# Modified Setup \n"
   ]
  },
  {
   "cell_type": "code",
   "execution_count": 99,
   "id": "78c493d6",
   "metadata": {},
   "outputs": [
    {
     "name": "stderr",
     "output_type": "stream",
     "text": [
      "C:\\Users\\DELL\\anaconda3\\envs\\WaferFaultDetection_env\\lib\\site-packages\\IPython\\core\\interactiveshell.py:2714: DtypeWarning: Columns (0) have mixed types. Specify dtype option on import or set low_memory=False.\n",
      "  interactivity=interactivity, compiler=compiler, result=result)\n"
     ]
    },
    {
     "data": {
      "text/html": [
       "<div>\n",
       "<style scoped>\n",
       "    .dataframe tbody tr th:only-of-type {\n",
       "        vertical-align: middle;\n",
       "    }\n",
       "\n",
       "    .dataframe tbody tr th {\n",
       "        vertical-align: top;\n",
       "    }\n",
       "\n",
       "    .dataframe thead th {\n",
       "        text-align: right;\n",
       "    }\n",
       "</style>\n",
       "<table border=\"1\" class=\"dataframe\">\n",
       "  <thead>\n",
       "    <tr style=\"text-align: right;\">\n",
       "      <th></th>\n",
       "      <th>sku</th>\n",
       "      <th>national_inv</th>\n",
       "      <th>lead_time</th>\n",
       "      <th>in_transit_qty</th>\n",
       "      <th>forecast_3_month</th>\n",
       "      <th>forecast_6_month</th>\n",
       "      <th>forecast_9_month</th>\n",
       "      <th>sales_1_month</th>\n",
       "      <th>sales_3_month</th>\n",
       "      <th>sales_6_month</th>\n",
       "      <th>...</th>\n",
       "      <th>pieces_past_due</th>\n",
       "      <th>perf_6_month_avg</th>\n",
       "      <th>perf_12_month_avg</th>\n",
       "      <th>local_bo_qty</th>\n",
       "      <th>deck_risk</th>\n",
       "      <th>oe_constraint</th>\n",
       "      <th>ppap_risk</th>\n",
       "      <th>stop_auto_buy</th>\n",
       "      <th>rev_stop</th>\n",
       "      <th>went_on_backorder</th>\n",
       "    </tr>\n",
       "  </thead>\n",
       "  <tbody>\n",
       "    <tr>\n",
       "      <th>0</th>\n",
       "      <td>1026827</td>\n",
       "      <td>0.0</td>\n",
       "      <td>NaN</td>\n",
       "      <td>0.0</td>\n",
       "      <td>0.0</td>\n",
       "      <td>0.0</td>\n",
       "      <td>0.0</td>\n",
       "      <td>0.0</td>\n",
       "      <td>0.0</td>\n",
       "      <td>0.0</td>\n",
       "      <td>...</td>\n",
       "      <td>0.0</td>\n",
       "      <td>-99.00</td>\n",
       "      <td>-99.00</td>\n",
       "      <td>0.0</td>\n",
       "      <td>No</td>\n",
       "      <td>No</td>\n",
       "      <td>No</td>\n",
       "      <td>Yes</td>\n",
       "      <td>No</td>\n",
       "      <td>No</td>\n",
       "    </tr>\n",
       "    <tr>\n",
       "      <th>1</th>\n",
       "      <td>1043384</td>\n",
       "      <td>2.0</td>\n",
       "      <td>9.0</td>\n",
       "      <td>0.0</td>\n",
       "      <td>0.0</td>\n",
       "      <td>0.0</td>\n",
       "      <td>0.0</td>\n",
       "      <td>0.0</td>\n",
       "      <td>0.0</td>\n",
       "      <td>0.0</td>\n",
       "      <td>...</td>\n",
       "      <td>0.0</td>\n",
       "      <td>0.99</td>\n",
       "      <td>0.99</td>\n",
       "      <td>0.0</td>\n",
       "      <td>No</td>\n",
       "      <td>No</td>\n",
       "      <td>No</td>\n",
       "      <td>Yes</td>\n",
       "      <td>No</td>\n",
       "      <td>No</td>\n",
       "    </tr>\n",
       "    <tr>\n",
       "      <th>2</th>\n",
       "      <td>1043696</td>\n",
       "      <td>2.0</td>\n",
       "      <td>NaN</td>\n",
       "      <td>0.0</td>\n",
       "      <td>0.0</td>\n",
       "      <td>0.0</td>\n",
       "      <td>0.0</td>\n",
       "      <td>0.0</td>\n",
       "      <td>0.0</td>\n",
       "      <td>0.0</td>\n",
       "      <td>...</td>\n",
       "      <td>0.0</td>\n",
       "      <td>-99.00</td>\n",
       "      <td>-99.00</td>\n",
       "      <td>0.0</td>\n",
       "      <td>Yes</td>\n",
       "      <td>No</td>\n",
       "      <td>No</td>\n",
       "      <td>Yes</td>\n",
       "      <td>No</td>\n",
       "      <td>No</td>\n",
       "    </tr>\n",
       "    <tr>\n",
       "      <th>3</th>\n",
       "      <td>1043852</td>\n",
       "      <td>7.0</td>\n",
       "      <td>8.0</td>\n",
       "      <td>0.0</td>\n",
       "      <td>0.0</td>\n",
       "      <td>0.0</td>\n",
       "      <td>0.0</td>\n",
       "      <td>0.0</td>\n",
       "      <td>0.0</td>\n",
       "      <td>0.0</td>\n",
       "      <td>...</td>\n",
       "      <td>0.0</td>\n",
       "      <td>0.10</td>\n",
       "      <td>0.13</td>\n",
       "      <td>0.0</td>\n",
       "      <td>No</td>\n",
       "      <td>No</td>\n",
       "      <td>No</td>\n",
       "      <td>Yes</td>\n",
       "      <td>No</td>\n",
       "      <td>No</td>\n",
       "    </tr>\n",
       "    <tr>\n",
       "      <th>4</th>\n",
       "      <td>1044048</td>\n",
       "      <td>8.0</td>\n",
       "      <td>NaN</td>\n",
       "      <td>0.0</td>\n",
       "      <td>0.0</td>\n",
       "      <td>0.0</td>\n",
       "      <td>0.0</td>\n",
       "      <td>0.0</td>\n",
       "      <td>0.0</td>\n",
       "      <td>0.0</td>\n",
       "      <td>...</td>\n",
       "      <td>0.0</td>\n",
       "      <td>-99.00</td>\n",
       "      <td>-99.00</td>\n",
       "      <td>0.0</td>\n",
       "      <td>Yes</td>\n",
       "      <td>No</td>\n",
       "      <td>No</td>\n",
       "      <td>Yes</td>\n",
       "      <td>No</td>\n",
       "      <td>No</td>\n",
       "    </tr>\n",
       "  </tbody>\n",
       "</table>\n",
       "<p>5 rows × 23 columns</p>\n",
       "</div>"
      ],
      "text/plain": [
       "       sku  national_inv  lead_time  in_transit_qty  forecast_3_month  \\\n",
       "0  1026827           0.0        NaN             0.0               0.0   \n",
       "1  1043384           2.0        9.0             0.0               0.0   \n",
       "2  1043696           2.0        NaN             0.0               0.0   \n",
       "3  1043852           7.0        8.0             0.0               0.0   \n",
       "4  1044048           8.0        NaN             0.0               0.0   \n",
       "\n",
       "   forecast_6_month  forecast_9_month  sales_1_month  sales_3_month  \\\n",
       "0               0.0               0.0            0.0            0.0   \n",
       "1               0.0               0.0            0.0            0.0   \n",
       "2               0.0               0.0            0.0            0.0   \n",
       "3               0.0               0.0            0.0            0.0   \n",
       "4               0.0               0.0            0.0            0.0   \n",
       "\n",
       "   sales_6_month  ...  pieces_past_due  perf_6_month_avg perf_12_month_avg  \\\n",
       "0            0.0  ...              0.0            -99.00            -99.00   \n",
       "1            0.0  ...              0.0              0.99              0.99   \n",
       "2            0.0  ...              0.0            -99.00            -99.00   \n",
       "3            0.0  ...              0.0              0.10              0.13   \n",
       "4            0.0  ...              0.0            -99.00            -99.00   \n",
       "\n",
       "   local_bo_qty  deck_risk  oe_constraint  ppap_risk stop_auto_buy rev_stop  \\\n",
       "0           0.0         No             No         No           Yes       No   \n",
       "1           0.0         No             No         No           Yes       No   \n",
       "2           0.0        Yes             No         No           Yes       No   \n",
       "3           0.0         No             No         No           Yes       No   \n",
       "4           0.0        Yes             No         No           Yes       No   \n",
       "\n",
       "  went_on_backorder  \n",
       "0                No  \n",
       "1                No  \n",
       "2                No  \n",
       "3                No  \n",
       "4                No  \n",
       "\n",
       "[5 rows x 23 columns]"
      ]
     },
     "execution_count": 99,
     "metadata": {},
     "output_type": "execute_result"
    }
   ],
   "source": [
    "new_df = pd.read_csv('Training_dataset.csv')\n",
    "new_df.fillna(np.nan , inplace = True )\n",
    "new_df.head()"
   ]
  },
  {
   "cell_type": "code",
   "execution_count": 100,
   "id": "ad9801f2",
   "metadata": {},
   "outputs": [
    {
     "data": {
      "text/html": [
       "<div>\n",
       "<style scoped>\n",
       "    .dataframe tbody tr th:only-of-type {\n",
       "        vertical-align: middle;\n",
       "    }\n",
       "\n",
       "    .dataframe tbody tr th {\n",
       "        vertical-align: top;\n",
       "    }\n",
       "\n",
       "    .dataframe thead th {\n",
       "        text-align: right;\n",
       "    }\n",
       "</style>\n",
       "<table border=\"1\" class=\"dataframe\">\n",
       "  <thead>\n",
       "    <tr style=\"text-align: right;\">\n",
       "      <th></th>\n",
       "      <th>sku</th>\n",
       "      <th>national_inv</th>\n",
       "      <th>lead_time</th>\n",
       "      <th>in_transit_qty</th>\n",
       "      <th>forecast_3_month</th>\n",
       "      <th>forecast_6_month</th>\n",
       "      <th>forecast_9_month</th>\n",
       "      <th>sales_1_month</th>\n",
       "      <th>sales_3_month</th>\n",
       "      <th>sales_6_month</th>\n",
       "      <th>...</th>\n",
       "      <th>pieces_past_due</th>\n",
       "      <th>perf_6_month_avg</th>\n",
       "      <th>perf_12_month_avg</th>\n",
       "      <th>local_bo_qty</th>\n",
       "      <th>deck_risk</th>\n",
       "      <th>oe_constraint</th>\n",
       "      <th>ppap_risk</th>\n",
       "      <th>stop_auto_buy</th>\n",
       "      <th>rev_stop</th>\n",
       "      <th>went_on_backorder</th>\n",
       "    </tr>\n",
       "  </thead>\n",
       "  <tbody>\n",
       "    <tr>\n",
       "      <th>0</th>\n",
       "      <td>1026827</td>\n",
       "      <td>0.0</td>\n",
       "      <td>NaN</td>\n",
       "      <td>0.0</td>\n",
       "      <td>0.0</td>\n",
       "      <td>0.0</td>\n",
       "      <td>0.0</td>\n",
       "      <td>0.0</td>\n",
       "      <td>0.0</td>\n",
       "      <td>0.0</td>\n",
       "      <td>...</td>\n",
       "      <td>0.0</td>\n",
       "      <td>-99.00</td>\n",
       "      <td>-99.00</td>\n",
       "      <td>0.0</td>\n",
       "      <td>No</td>\n",
       "      <td>No</td>\n",
       "      <td>No</td>\n",
       "      <td>Yes</td>\n",
       "      <td>No</td>\n",
       "      <td>No</td>\n",
       "    </tr>\n",
       "    <tr>\n",
       "      <th>1</th>\n",
       "      <td>1043384</td>\n",
       "      <td>2.0</td>\n",
       "      <td>9.0</td>\n",
       "      <td>0.0</td>\n",
       "      <td>0.0</td>\n",
       "      <td>0.0</td>\n",
       "      <td>0.0</td>\n",
       "      <td>0.0</td>\n",
       "      <td>0.0</td>\n",
       "      <td>0.0</td>\n",
       "      <td>...</td>\n",
       "      <td>0.0</td>\n",
       "      <td>0.99</td>\n",
       "      <td>0.99</td>\n",
       "      <td>0.0</td>\n",
       "      <td>No</td>\n",
       "      <td>No</td>\n",
       "      <td>No</td>\n",
       "      <td>Yes</td>\n",
       "      <td>No</td>\n",
       "      <td>No</td>\n",
       "    </tr>\n",
       "    <tr>\n",
       "      <th>2</th>\n",
       "      <td>1043696</td>\n",
       "      <td>2.0</td>\n",
       "      <td>NaN</td>\n",
       "      <td>0.0</td>\n",
       "      <td>0.0</td>\n",
       "      <td>0.0</td>\n",
       "      <td>0.0</td>\n",
       "      <td>0.0</td>\n",
       "      <td>0.0</td>\n",
       "      <td>0.0</td>\n",
       "      <td>...</td>\n",
       "      <td>0.0</td>\n",
       "      <td>-99.00</td>\n",
       "      <td>-99.00</td>\n",
       "      <td>0.0</td>\n",
       "      <td>Yes</td>\n",
       "      <td>No</td>\n",
       "      <td>No</td>\n",
       "      <td>Yes</td>\n",
       "      <td>No</td>\n",
       "      <td>No</td>\n",
       "    </tr>\n",
       "    <tr>\n",
       "      <th>3</th>\n",
       "      <td>1043852</td>\n",
       "      <td>7.0</td>\n",
       "      <td>8.0</td>\n",
       "      <td>0.0</td>\n",
       "      <td>0.0</td>\n",
       "      <td>0.0</td>\n",
       "      <td>0.0</td>\n",
       "      <td>0.0</td>\n",
       "      <td>0.0</td>\n",
       "      <td>0.0</td>\n",
       "      <td>...</td>\n",
       "      <td>0.0</td>\n",
       "      <td>0.10</td>\n",
       "      <td>0.13</td>\n",
       "      <td>0.0</td>\n",
       "      <td>No</td>\n",
       "      <td>No</td>\n",
       "      <td>No</td>\n",
       "      <td>Yes</td>\n",
       "      <td>No</td>\n",
       "      <td>No</td>\n",
       "    </tr>\n",
       "    <tr>\n",
       "      <th>4</th>\n",
       "      <td>1044048</td>\n",
       "      <td>8.0</td>\n",
       "      <td>NaN</td>\n",
       "      <td>0.0</td>\n",
       "      <td>0.0</td>\n",
       "      <td>0.0</td>\n",
       "      <td>0.0</td>\n",
       "      <td>0.0</td>\n",
       "      <td>0.0</td>\n",
       "      <td>0.0</td>\n",
       "      <td>...</td>\n",
       "      <td>0.0</td>\n",
       "      <td>-99.00</td>\n",
       "      <td>-99.00</td>\n",
       "      <td>0.0</td>\n",
       "      <td>Yes</td>\n",
       "      <td>No</td>\n",
       "      <td>No</td>\n",
       "      <td>Yes</td>\n",
       "      <td>No</td>\n",
       "      <td>No</td>\n",
       "    </tr>\n",
       "  </tbody>\n",
       "</table>\n",
       "<p>5 rows × 23 columns</p>\n",
       "</div>"
      ],
      "text/plain": [
       "       sku  national_inv  lead_time  in_transit_qty  forecast_3_month  \\\n",
       "0  1026827           0.0        NaN             0.0               0.0   \n",
       "1  1043384           2.0        9.0             0.0               0.0   \n",
       "2  1043696           2.0        NaN             0.0               0.0   \n",
       "3  1043852           7.0        8.0             0.0               0.0   \n",
       "4  1044048           8.0        NaN             0.0               0.0   \n",
       "\n",
       "   forecast_6_month  forecast_9_month  sales_1_month  sales_3_month  \\\n",
       "0               0.0               0.0            0.0            0.0   \n",
       "1               0.0               0.0            0.0            0.0   \n",
       "2               0.0               0.0            0.0            0.0   \n",
       "3               0.0               0.0            0.0            0.0   \n",
       "4               0.0               0.0            0.0            0.0   \n",
       "\n",
       "   sales_6_month  ...  pieces_past_due  perf_6_month_avg perf_12_month_avg  \\\n",
       "0            0.0  ...              0.0            -99.00            -99.00   \n",
       "1            0.0  ...              0.0              0.99              0.99   \n",
       "2            0.0  ...              0.0            -99.00            -99.00   \n",
       "3            0.0  ...              0.0              0.10              0.13   \n",
       "4            0.0  ...              0.0            -99.00            -99.00   \n",
       "\n",
       "   local_bo_qty  deck_risk  oe_constraint  ppap_risk stop_auto_buy rev_stop  \\\n",
       "0           0.0         No             No         No           Yes       No   \n",
       "1           0.0         No             No         No           Yes       No   \n",
       "2           0.0        Yes             No         No           Yes       No   \n",
       "3           0.0         No             No         No           Yes       No   \n",
       "4           0.0        Yes             No         No           Yes       No   \n",
       "\n",
       "  went_on_backorder  \n",
       "0                No  \n",
       "1                No  \n",
       "2                No  \n",
       "3                No  \n",
       "4                No  \n",
       "\n",
       "[5 rows x 23 columns]"
      ]
     },
     "execution_count": 100,
     "metadata": {},
     "output_type": "execute_result"
    }
   ],
   "source": [
    "# create small dataset for the \n",
    "df4 = new_df.head()\n",
    "df4.head()"
   ]
  },
  {
   "cell_type": "code",
   "execution_count": 101,
   "id": "fdda5992",
   "metadata": {},
   "outputs": [
    {
     "data": {
      "text/html": [
       "<div>\n",
       "<style scoped>\n",
       "    .dataframe tbody tr th:only-of-type {\n",
       "        vertical-align: middle;\n",
       "    }\n",
       "\n",
       "    .dataframe tbody tr th {\n",
       "        vertical-align: top;\n",
       "    }\n",
       "\n",
       "    .dataframe thead th {\n",
       "        text-align: right;\n",
       "    }\n",
       "</style>\n",
       "<table border=\"1\" class=\"dataframe\">\n",
       "  <thead>\n",
       "    <tr style=\"text-align: right;\">\n",
       "      <th></th>\n",
       "      <th>sku</th>\n",
       "      <th>national_inv</th>\n",
       "      <th>lead_time</th>\n",
       "      <th>in_transit_qty</th>\n",
       "      <th>forecast_3_month</th>\n",
       "      <th>forecast_6_month</th>\n",
       "      <th>forecast_9_month</th>\n",
       "      <th>sales_1_month</th>\n",
       "      <th>sales_3_month</th>\n",
       "      <th>sales_6_month</th>\n",
       "      <th>...</th>\n",
       "      <th>pieces_past_due</th>\n",
       "      <th>perf_6_month_avg</th>\n",
       "      <th>perf_12_month_avg</th>\n",
       "      <th>local_bo_qty</th>\n",
       "      <th>deck_risk</th>\n",
       "      <th>oe_constraint</th>\n",
       "      <th>ppap_risk</th>\n",
       "      <th>stop_auto_buy</th>\n",
       "      <th>rev_stop</th>\n",
       "      <th>went_on_backorder</th>\n",
       "    </tr>\n",
       "  </thead>\n",
       "  <tbody>\n",
       "    <tr>\n",
       "      <th>0</th>\n",
       "      <td>1026827</td>\n",
       "      <td>0.0</td>\n",
       "      <td>NaN</td>\n",
       "      <td>0.0</td>\n",
       "      <td>0.0</td>\n",
       "      <td>0.0</td>\n",
       "      <td>0.0</td>\n",
       "      <td>0.0</td>\n",
       "      <td>0.0</td>\n",
       "      <td>0.0</td>\n",
       "      <td>...</td>\n",
       "      <td>0.0</td>\n",
       "      <td>-99.00</td>\n",
       "      <td>-99.00</td>\n",
       "      <td>0.0</td>\n",
       "      <td>No</td>\n",
       "      <td>No</td>\n",
       "      <td>No</td>\n",
       "      <td>Yes</td>\n",
       "      <td>No</td>\n",
       "      <td>No</td>\n",
       "    </tr>\n",
       "    <tr>\n",
       "      <th>1</th>\n",
       "      <td>1043384</td>\n",
       "      <td>2.0</td>\n",
       "      <td>9.0</td>\n",
       "      <td>0.0</td>\n",
       "      <td>0.0</td>\n",
       "      <td>0.0</td>\n",
       "      <td>0.0</td>\n",
       "      <td>0.0</td>\n",
       "      <td>0.0</td>\n",
       "      <td>0.0</td>\n",
       "      <td>...</td>\n",
       "      <td>0.0</td>\n",
       "      <td>0.99</td>\n",
       "      <td>0.99</td>\n",
       "      <td>0.0</td>\n",
       "      <td>No</td>\n",
       "      <td>No</td>\n",
       "      <td>No</td>\n",
       "      <td>Yes</td>\n",
       "      <td>No</td>\n",
       "      <td>No</td>\n",
       "    </tr>\n",
       "    <tr>\n",
       "      <th>2</th>\n",
       "      <td>1043696</td>\n",
       "      <td>2.0</td>\n",
       "      <td>NaN</td>\n",
       "      <td>0.0</td>\n",
       "      <td>0.0</td>\n",
       "      <td>0.0</td>\n",
       "      <td>0.0</td>\n",
       "      <td>0.0</td>\n",
       "      <td>0.0</td>\n",
       "      <td>0.0</td>\n",
       "      <td>...</td>\n",
       "      <td>0.0</td>\n",
       "      <td>-99.00</td>\n",
       "      <td>-99.00</td>\n",
       "      <td>0.0</td>\n",
       "      <td>Yes</td>\n",
       "      <td>No</td>\n",
       "      <td>No</td>\n",
       "      <td>Yes</td>\n",
       "      <td>No</td>\n",
       "      <td>No</td>\n",
       "    </tr>\n",
       "    <tr>\n",
       "      <th>3</th>\n",
       "      <td>1043852</td>\n",
       "      <td>7.0</td>\n",
       "      <td>8.0</td>\n",
       "      <td>0.0</td>\n",
       "      <td>0.0</td>\n",
       "      <td>0.0</td>\n",
       "      <td>0.0</td>\n",
       "      <td>0.0</td>\n",
       "      <td>0.0</td>\n",
       "      <td>0.0</td>\n",
       "      <td>...</td>\n",
       "      <td>0.0</td>\n",
       "      <td>0.10</td>\n",
       "      <td>0.13</td>\n",
       "      <td>0.0</td>\n",
       "      <td>No</td>\n",
       "      <td>No</td>\n",
       "      <td>No</td>\n",
       "      <td>Yes</td>\n",
       "      <td>No</td>\n",
       "      <td>No</td>\n",
       "    </tr>\n",
       "    <tr>\n",
       "      <th>4</th>\n",
       "      <td>1044048</td>\n",
       "      <td>8.0</td>\n",
       "      <td>NaN</td>\n",
       "      <td>0.0</td>\n",
       "      <td>0.0</td>\n",
       "      <td>0.0</td>\n",
       "      <td>0.0</td>\n",
       "      <td>0.0</td>\n",
       "      <td>0.0</td>\n",
       "      <td>0.0</td>\n",
       "      <td>...</td>\n",
       "      <td>0.0</td>\n",
       "      <td>-99.00</td>\n",
       "      <td>-99.00</td>\n",
       "      <td>0.0</td>\n",
       "      <td>Yes</td>\n",
       "      <td>No</td>\n",
       "      <td>No</td>\n",
       "      <td>Yes</td>\n",
       "      <td>No</td>\n",
       "      <td>No</td>\n",
       "    </tr>\n",
       "  </tbody>\n",
       "</table>\n",
       "<p>5 rows × 23 columns</p>\n",
       "</div>"
      ],
      "text/plain": [
       "       sku  national_inv  lead_time  in_transit_qty  forecast_3_month  \\\n",
       "0  1026827           0.0        NaN             0.0               0.0   \n",
       "1  1043384           2.0        9.0             0.0               0.0   \n",
       "2  1043696           2.0        NaN             0.0               0.0   \n",
       "3  1043852           7.0        8.0             0.0               0.0   \n",
       "4  1044048           8.0        NaN             0.0               0.0   \n",
       "\n",
       "   forecast_6_month  forecast_9_month  sales_1_month  sales_3_month  \\\n",
       "0               0.0               0.0            0.0            0.0   \n",
       "1               0.0               0.0            0.0            0.0   \n",
       "2               0.0               0.0            0.0            0.0   \n",
       "3               0.0               0.0            0.0            0.0   \n",
       "4               0.0               0.0            0.0            0.0   \n",
       "\n",
       "   sales_6_month  ...  pieces_past_due  perf_6_month_avg perf_12_month_avg  \\\n",
       "0            0.0  ...              0.0            -99.00            -99.00   \n",
       "1            0.0  ...              0.0              0.99              0.99   \n",
       "2            0.0  ...              0.0            -99.00            -99.00   \n",
       "3            0.0  ...              0.0              0.10              0.13   \n",
       "4            0.0  ...              0.0            -99.00            -99.00   \n",
       "\n",
       "   local_bo_qty  deck_risk  oe_constraint  ppap_risk stop_auto_buy rev_stop  \\\n",
       "0           0.0         No             No         No           Yes       No   \n",
       "1           0.0         No             No         No           Yes       No   \n",
       "2           0.0        Yes             No         No           Yes       No   \n",
       "3           0.0         No             No         No           Yes       No   \n",
       "4           0.0        Yes             No         No           Yes       No   \n",
       "\n",
       "  went_on_backorder  \n",
       "0                No  \n",
       "1                No  \n",
       "2                No  \n",
       "3                No  \n",
       "4                No  \n",
       "\n",
       "[5 rows x 23 columns]"
      ]
     },
     "execution_count": 101,
     "metadata": {},
     "output_type": "execute_result"
    }
   ],
   "source": [
    "df4.to_csv('Sample_file4csv.csv' , index=False)\n",
    "df4 = pd.read_csv('Sample_file4csv.csv')\n",
    "df4.head()"
   ]
  },
  {
   "cell_type": "code",
   "execution_count": 102,
   "id": "25dd10df",
   "metadata": {},
   "outputs": [
    {
     "data": {
      "text/plain": [
       "<cassandra.cluster.ResultSet at 0x1a873438ef0>"
      ]
     },
     "execution_count": 102,
     "metadata": {},
     "output_type": "execute_result"
    }
   ],
   "source": [
    "Query_1 = (\"CREATE TABLE if not exists sample4 ( sku  int PRIMARY KEY,,national_inv  float , lead_time  float , in_transit_qty  float , forecast_3_month  float , forecast_6_month  float , forecast_9_month  float , sales_1_month  float , sales_3_month  float ,sales_6_month  float , sales_9_month  float ,min_bank  float , potential_issue  text,pieces_past_due  float , perf_6_month_avg  float , perf_12_month_avg  float , local_bo_qty  float ,deck_risk  text,oe_constraint  text  , ppap_risk  text,stop_auto_buy  text,rev_stop  text,went_on_backorder  text) ;\" )\n",
    "session.execute(Query_1)"
   ]
  },
  {
   "cell_type": "code",
   "execution_count": 108,
   "id": "8feca3e4",
   "metadata": {},
   "outputs": [],
   "source": [
    "a = df4.values\n",
    "for i in a : \n",
    "    l = list(i)\n",
    "    Query_2 = f\"Insert into sample4 (sku,national_inv,lead_time,in_transit_qty,forecast_3_month,forecast_6_month,forecast_9_month,sales_1_month,sales_3_month,sales_6_month,sales_9_month,min_bank,potential_issue,pieces_past_due,perf_6_month_avg,perf_12_month_avg,local_bo_qty,deck_risk,oe_constraint,ppap_risk,stop_auto_buy,rev_stop,went_on_backorder) values ({l[0]} , {l[1]} ,  {l[2]} ,  {l[3]} , {l[4] }  ,  {l[5]} ,  {l[6]} ,  {l[7]} , {l[8]} , {l[9] }  ,  {l[10]} , {l[11]} ,  '{l[12]}' , { l[13]} , { l[14]} ,  {l[15]}  ,  {l[16]},  '{l[17]}',  '{l[18]}' ,  '{l[19]}',  '{l[20]}',  '{l[21]}' ,  '{l[22]}');\"\n",
    "    session.execute(Query_2)\n"
   ]
  },
  {
   "cell_type": "code",
   "execution_count": null,
   "id": "8e8c6e33",
   "metadata": {},
   "outputs": [],
   "source": []
  }
 ],
 "metadata": {
  "celltoolbar": "Attachments",
  "kernelspec": {
   "display_name": "Python 3",
   "language": "python",
   "name": "python3"
  },
  "language_info": {
   "codemirror_mode": {
    "name": "ipython",
    "version": 3
   },
   "file_extension": ".py",
   "mimetype": "text/x-python",
   "name": "python",
   "nbconvert_exporter": "python",
   "pygments_lexer": "ipython3",
   "version": "3.6.13"
  }
 },
 "nbformat": 4,
 "nbformat_minor": 5
}
